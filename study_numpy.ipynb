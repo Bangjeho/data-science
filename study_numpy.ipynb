{
 "cells": [
  {
   "cell_type": "code",
   "execution_count": 1,
   "metadata": {},
   "outputs": [],
   "source": [
    "import numpy as np\n",
    "np.random.seed(0)\n",
    "\n",
    "x = np.arange(1,10)\n",
    "\n"
   ]
  },
  {
   "cell_type": "code",
   "execution_count": 2,
   "metadata": {},
   "outputs": [
    {
     "name": "stdout",
     "output_type": "stream",
     "text": [
      "[[1]\n",
      " [1]\n",
      " [1]]\n"
     ]
    }
   ],
   "source": [
    "import numpy as np\n",
    "x = np.array([[0,1],\n",
    "              [0,2],\n",
    "              [1,3]])\n",
    "y = np.array([1,1,1])\n",
    "y = y.reshape(x.shape[0],1)\n",
    "print(y)"
   ]
  },
  {
   "cell_type": "code",
   "execution_count": 4,
   "metadata": {},
   "outputs": [
    {
     "name": "stdout",
     "output_type": "stream",
     "text": [
      "[0.5488135  0.71518937]\n"
     ]
    }
   ],
   "source": [
    "w = np.random.random(x.shape[1])\n",
    "print(w)\n",
    "x = np.random.randint(10,size =(3,4,5))"
   ]
  },
  {
   "cell_type": "code",
   "execution_count": 5,
   "metadata": {},
   "outputs": [
    {
     "name": "stdout",
     "output_type": "stream",
     "text": [
      "[[[3 3 7 9 3]\n",
      "  [5 2 4 7 6]\n",
      "  [8 8 1 6 7]\n",
      "  [7 8 1 5 9]]\n",
      "\n",
      " [[8 9 4 3 0]\n",
      "  [3 5 0 2 3]\n",
      "  [8 1 3 3 3]\n",
      "  [7 0 1 9 9]]\n",
      "\n",
      " [[0 4 7 3 2]\n",
      "  [7 2 0 0 4]\n",
      "  [5 5 6 8 4]\n",
      "  [1 4 9 8 1]]]\n",
      "[[5 0 2]\n",
      " [1 3 3]]\n"
     ]
    }
   ],
   "source": [
    "print(x)\n",
    "print(x[1,1:3,1:4])"
   ]
  },
  {
   "cell_type": "code",
   "execution_count": null,
   "metadata": {},
   "outputs": [],
   "source": []
  }
 ],
 "metadata": {
  "kernelspec": {
   "display_name": "Python 3",
   "language": "python",
   "name": "python3"
  },
  "language_info": {
   "codemirror_mode": {
    "name": "ipython",
    "version": 3
   },
   "file_extension": ".py",
   "mimetype": "text/x-python",
   "name": "python",
   "nbconvert_exporter": "python",
   "pygments_lexer": "ipython3",
   "version": "3.7.3"
  }
 },
 "nbformat": 4,
 "nbformat_minor": 2
}
