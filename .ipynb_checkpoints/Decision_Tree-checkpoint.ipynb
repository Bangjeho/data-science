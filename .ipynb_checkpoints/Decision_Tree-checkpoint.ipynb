{
 "cells": [
  {
   "cell_type": "code",
   "execution_count": 253,
   "metadata": {},
   "outputs": [],
   "source": [
    "import pandas as pd\n",
    "import numpy as np"
   ]
  },
  {
   "cell_type": "code",
   "execution_count": 316,
   "metadata": {},
   "outputs": [],
   "source": [
    "def dataset():\n",
    "    data = pd.read_csv(\"simpsons.csv\")\n",
    "    data['gender'] = data['gender'].map({'M':0,'F':1})\n",
    "    data.rename(columns = {'Unnamed: 0':'Name'}, inplace=True)\n",
    "    return data"
   ]
  },
  {
   "cell_type": "code",
   "execution_count": 304,
   "metadata": {},
   "outputs": [],
   "source": [
    "import math\n",
    "def find_entropy(gender):\n",
    "    global entropy\n",
    "    \n",
    "    genders = gender.groupby('gender').count()\n",
    "    \n",
    "    if genders.empty :\n",
    "        male_entropy = 0\n",
    "        female_entropy = 0\n",
    "    else:\n",
    "        if genders.index[0] == 0 and len(genders.index) == 2:\n",
    "            male = genders.values[0][0]\n",
    "            female = genders.values[1][0]\n",
    "            total = male + female\n",
    "            male_entropy = (male / total) * (-1 * (math.log2(male/total)))\n",
    "            female_entropy = (female / total) * (-1 * (math.log2(female/total)))\n",
    "        else:        \n",
    "            if genders.index[0] == 0:\n",
    "                male = genders.values[0][0]\n",
    "                total = male + 0\n",
    "                male_entropy = (male / total) * (-1 * (math.log2(male/total)))\n",
    "                female_entropy = 0\n",
    "                \n",
    "            elif genders.index[0] == 1:\n",
    "                female = genders.values[0][0]\n",
    "                total = 0 + female\n",
    "                male_entropy = 0\n",
    "                female_entropy = (female / total) * (-1 * (math.log2(female/total)))\n",
    "\n",
    "\n",
    "        entropy = male_entropy + female_entropy\n",
    "\n",
    "    return entropy"
   ]
  },
  {
   "cell_type": "code",
   "execution_count": 305,
   "metadata": {},
   "outputs": [],
   "source": [
    "#최적의 머리 길이 구하기위한 케이스 2가지\n",
    "hair_list_case1 = []\n",
    "hair_list_case2 = []\n",
    "\n",
    "def hair_length_case(data_values):\n",
    "    x = data[data.hair_length >= data_values]\n",
    "    y = data[data.hair_length < data_values]\n",
    "    \n",
    "    x_entropy = find_entropy(x)\n",
    "    y_entropy = find_entropy(y)\n",
    "    \n",
    "    entropy = (x_entropy * len(x)/len(x+y)) + (y_entropy * len(y)/len(x+y))\n",
    "    \n",
    "    hair_list_case1.append(entropy)\n",
    "\n",
    "    x = data[data.hair_length > data_values]\n",
    "    y = data[data.hair_length <= data_values]\n",
    "    \n",
    "    x_entropy = find_entropy(x)\n",
    "    y_entropy = find_entropy(y)\n",
    "    \n",
    "    entropy = (x_entropy * len(x)/len(x+y)) + (y_entropy * len(y)/len(x+y))\n",
    "    \n",
    "    hair_list_case2.append(entropy)\n"
   ]
  },
  {
   "cell_type": "code",
   "execution_count": 306,
   "metadata": {},
   "outputs": [],
   "source": [
    "#최적의 머리 길이를 찾는 러닝\n",
    "def hair_length_learning():\n",
    "    \n",
    "    hair_list_case1.clear()\n",
    "    hair_list_case2.clear()\n",
    "    \n",
    "    for i in range(0,len(data)):\n",
    "        hair_length_case(data['hair_length'][i])\n",
    "    \n",
    "    hair_list_case_1 = np.array(hair_list_case1)\n",
    "\n",
    "    hair_list_case_2 = np.array(hair_list_case2)\n",
    "\n",
    "    if hair_list_case_1.min() >= hair_list_case_2.min():\n",
    "        hair_best_entropy = hair_list_case_2.min()\n",
    "        hair_best_index = hair_list_case_2.argmin()\n",
    "        operator = \">\"\n",
    "\n",
    "    elif hair_list_case_1.min() < hair_list_case_2.min():\n",
    "        hair_best_entropy = hair_list_case_1.min()\n",
    "        hair_best_index = hair_list_case_1.argmin()\n",
    "        operator = \"<\"\n",
    "        \n",
    "    return hair_best_entropy, hair_best_index,operator"
   ]
  },
  {
   "cell_type": "code",
   "execution_count": 307,
   "metadata": {},
   "outputs": [],
   "source": [
    "#최적의 몸무게를 구하기위한 케이스 2가지\n",
    "\n",
    "weight_list_case1 = []\n",
    "weight_list_case2 = []\n",
    "\n",
    "def weight_case(data_values):\n",
    "    x = data[data.weight >= data_values]\n",
    "    y = data[data.weight < data_values]\n",
    "    \n",
    "    x_entropy = find_entropy(x)\n",
    "    y_entropy = find_entropy(y)\n",
    "    \n",
    "    entropy = (x_entropy * len(x)/len(x+y)) + (y_entropy * len(y)/len(x+y))\n",
    "    \n",
    "    weight_list_case1.append(entropy)\n",
    "\n",
    "    x = data[data.weight > data_values]\n",
    "    y = data[data.weight <= data_values]\n",
    "    \n",
    "    x_entropy = find_entropy(x)\n",
    "    y_entropy = find_entropy(y)\n",
    "    \n",
    "    entropy = (x_entropy * len(x)/len(x+y)) + (y_entropy * len(y)/len(x+y))\n",
    "    \n",
    "    weight_list_case2.append(entropy)"
   ]
  },
  {
   "cell_type": "code",
   "execution_count": 308,
   "metadata": {},
   "outputs": [],
   "source": [
    "#최적의 몸무게를 찾는 러닝\n",
    "def weight_learning():\n",
    "    \n",
    "    weight_list_case1.clear()\n",
    "    weight_list_case2.clear()\n",
    "    \n",
    "    for i in range(0,len(data)):\n",
    "        weight_case(data['weight'][i])\n",
    "    \n",
    "    weight_list_case_1 = np.array(weight_list_case1)\n",
    "\n",
    "    weight_list_case_2 = np.array(weight_list_case2)\n",
    "\n",
    "    if weight_list_case_1.min() >= weight_list_case_2.min():\n",
    "        weight_best_entropy = weight_list_case_2.min()\n",
    "        weight_best_index = weight_list_case_2.argmin()\n",
    "        operator = \">\"\n",
    "        \n",
    "        \n",
    "    elif weight_list_case_1.min() < weight_list_case_2.min():\n",
    "        weight_best_entropy = weight_list_case_1.min()\n",
    "        weight_best_index = weight_list_case_1.argmin()\n",
    "        operator = \"<\"\n",
    "        \n",
    "    return weight_best_entropy, weight_best_index, operator"
   ]
  },
  {
   "cell_type": "code",
   "execution_count": 309,
   "metadata": {},
   "outputs": [],
   "source": [
    "#최적의 나이를 구하기위한 케이스 2가지\n",
    "age_list_case1 = []\n",
    "age_list_case2 = []\n",
    "\n",
    "def age_case(data_values):\n",
    "    x = data[data.age >= data_values]\n",
    "    y = data[data.age < data_values]\n",
    "    \n",
    "    x_entropy = find_entropy(x)\n",
    "    y_entropy = find_entropy(y)\n",
    "    \n",
    "    entropy = (x_entropy * len(x)/len(x+y)) + (y_entropy * len(y)/len(x+y))\n",
    "\n",
    "    age_list_case1.append(entropy)\n",
    "\n",
    "    x = data[data.age > data_values]\n",
    "    y = data[data.age <= data_values]\n",
    "    \n",
    "    x_entropy = find_entropy(x)\n",
    "    y_entropy = find_entropy(y)\n",
    "    \n",
    "    entropy = (x_entropy * len(x)/len(x+y)) + (y_entropy * len(y)/len(x+y))\n",
    "\n",
    "    age_list_case2.append(entropy)"
   ]
  },
  {
   "cell_type": "code",
   "execution_count": 310,
   "metadata": {},
   "outputs": [],
   "source": [
    "#최적의 몸무게를 찾는 러닝\n",
    "def age_learning():\n",
    "    \n",
    "    age_list_case1.clear()\n",
    "    age_list_case2.clear()\n",
    "    \n",
    "    for i in range(0,len(data)):\n",
    "        age_case(data['age'][i])\n",
    "    \n",
    "    age_list_case_1 = np.array(age_list_case1)\n",
    "\n",
    "    age_list_case_2 = np.array(age_list_case2)\n",
    "\n",
    "    if age_list_case_1.min() >= age_list_case_2.min():\n",
    "        age_best_entropy = age_list_case_2.min()\n",
    "        age_best_index = age_list_case_2.argmin()\n",
    "        operator = \">\"\n",
    "\n",
    "    elif age_list_case_1.min() < age_list_case_2.min():\n",
    "        age_best_entropy = age_list_case_1.min()\n",
    "        age_best_index = age_list_case_1.argmin()\n",
    "        operator = \"<\"\n",
    "        \n",
    "    return age_best_entropy,age_best_index,operator"
   ]
  },
  {
   "cell_type": "code",
   "execution_count": 350,
   "metadata": {},
   "outputs": [
    {
     "ename": "SyntaxError",
     "evalue": "name 'left_dataset' is assigned to before global declaration (<ipython-input-350-2372e9588930>, line 25)",
     "output_type": "error",
     "traceback": [
      "\u001b[1;36m  File \u001b[1;32m\"<ipython-input-350-2372e9588930>\"\u001b[1;36m, line \u001b[1;32m25\u001b[0m\n\u001b[1;31mSyntaxError\u001b[0m\u001b[1;31m:\u001b[0m name 'left_dataset' is assigned to before global declaration\n"
     ]
    }
   ],
   "source": [
    "import operator as op\n",
    "\n",
    "ops = {\"<\" : op.lt,\n",
    "       \">\" : op.gt\n",
    "      }\n",
    "\n",
    "left_data = []\n",
    "right_data = []\n",
    "\n",
    "def split_dataset(condition):\n",
    "    \n",
    "    for i in range(0,len(data)):\n",
    "        if condition[i] == True :\n",
    "            left_data.append(i)\n",
    "        else:\n",
    "            right_data.append(i)\n",
    "\n",
    "    left_dataset = data.iloc[left_data].reset_index(drop = True)\n",
    "    \n",
    "    right_dataset = data.iloc[right_data].reset_index(drop = True)\n",
    "    \n",
    "    global left_dataset, right_dataset\n",
    "    return left_dataset, right_dataset"
   ]
  },
  {
   "cell_type": "code",
   "execution_count": 391,
   "metadata": {
    "scrolled": true
   },
   "outputs": [],
   "source": [
    "def find_conditions():\n",
    "    hair_entropy, hair_index,hair_operator = hair_length_learning()\n",
    "    weight_entropy, weight_index,weight_operator = weight_learning()\n",
    "    age_entropy, age_index,age_operator = age_learning()\n",
    "\n",
    "    left_data.clear()\n",
    "    right_data.clear()\n",
    "    \n",
    "    if (hair_entropy <= weight_entropy) and (hair_entropy <= age_entropy):\n",
    "        condition = ops[hair_operator](data['hair_length'],data['hair_length'][hair_index])\n",
    "        left_dataset,right_dataset = split_dataset(condition)\n",
    "        confirm_feture = \"hair_length\"\n",
    "        \n",
    "    elif (weight_entropy <= hair_entropy) and (weight_entropy <= age_entropy):\n",
    "        condition = ops[weight_operator](data['weight'],data['weight'][weight_index])\n",
    "        left_dataset,right_dataset = split_dataset(condition)\n",
    "        confirm_feture = \"weight\"\n",
    "        \n",
    "    elif (age_entropy <= hair_entropy) and (age_entropy <= weight_entropy):\n",
    "        condition = ops[age_operator](data['age'],data['age'][age_index])\n",
    "        left_dataset,right_dataset = split_dataset(condition)\n",
    "        confirm_feture = \"age\"\n",
    "        \n",
    "    return left_dataset,right_dataset,confirm_feature\n"
   ]
  },
  {
   "cell_type": "code",
   "execution_count": 392,
   "metadata": {},
   "outputs": [
    {
     "ename": "SyntaxError",
     "evalue": "unexpected EOF while parsing (<ipython-input-392-69334f20da66>, line 1)",
     "output_type": "error",
     "traceback": [
      "\u001b[1;36m  File \u001b[1;32m\"<ipython-input-392-69334f20da66>\"\u001b[1;36m, line \u001b[1;32m1\u001b[0m\n\u001b[1;33m    def confirm_features():\u001b[0m\n\u001b[1;37m                           ^\u001b[0m\n\u001b[1;31mSyntaxError\u001b[0m\u001b[1;31m:\u001b[0m unexpected EOF while parsing\n"
     ]
    }
   ],
   "source": [
    "def confirm_features(confirm_feature):\n",
    "    if confirm_feature == \"hair_length\":\n",
    "        \n",
    "    elif confirm_feature == \"weight\":\n",
    "    \n",
    "    elif confirm_feature == \"age\":"
   ]
  },
  {
   "cell_type": "code",
   "execution_count": 388,
   "metadata": {},
   "outputs": [],
   "source": [
    "def main():\n",
    "    print(dataset())\n",
    "    left_dataset, right_dataset,confirm_feature = find_conditions()\n",
    "\n",
    "    while True:\n",
    "        if find_entropy(left_dataset) != 0:\n",
    "            data = left_dataset\n",
    "            left_dataset, right_dataset = find_conditions()\n",
    "        else:\n",
    "            \n",
    "            if left_dataset['gender'][0] == 0:\n",
    "                print(\"Male\")\n",
    "            break;"
   ]
  },
  {
   "cell_type": "code",
   "execution_count": 389,
   "metadata": {},
   "outputs": [
    {
     "name": "stdout",
     "output_type": "stream",
     "text": [
      "     Name  hair_length  weight  age  gender\n",
      "0   Homer            0     250   36       0\n",
      "1   Marge           10     150   34       1\n",
      "2    Bart            2      90   10       0\n",
      "3    Lisa            6      78    8       1\n",
      "4  Maggie            4      20    1       1\n",
      "5     Abe            1     170   70       0\n",
      "6   Selma            8     160   41       1\n",
      "7    Otto           10     180   38       0\n",
      "8  Krusty            6     200   45       0\n",
      "Male\n"
     ]
    }
   ],
   "source": [
    "main()"
   ]
  },
  {
   "cell_type": "code",
   "execution_count": null,
   "metadata": {},
   "outputs": [],
   "source": []
  }
 ],
 "metadata": {
  "kernelspec": {
   "display_name": "Python 3",
   "language": "python",
   "name": "python3"
  },
  "language_info": {
   "codemirror_mode": {
    "name": "ipython",
    "version": 3
   },
   "file_extension": ".py",
   "mimetype": "text/x-python",
   "name": "python",
   "nbconvert_exporter": "python",
   "pygments_lexer": "ipython3",
   "version": "3.7.3"
  }
 },
 "nbformat": 4,
 "nbformat_minor": 2
}
