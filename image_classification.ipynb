{
 "cells": [
  {
   "cell_type": "code",
   "execution_count": 1,
   "metadata": {},
   "outputs": [],
   "source": [
    "from sklearn import datasets\n",
    "import matplotlib.pyplot as plt"
   ]
  },
  {
   "cell_type": "code",
   "execution_count": 2,
   "metadata": {},
   "outputs": [
    {
     "data": {
      "image/png": "[encoded data removed]",
      "text/plain": [
       "<Figure size 432x288 with 1 Axes>"
      ]
     },
     "metadata": {
      "needs_background": "light"
     },
     "output_type": "display_data"
    },
    {
     "name": "stdout",
     "output_type": "stream",
     "text": [
      "0\n"
     ]
    }
   ],
   "source": [
    "digits = datasets.load_digits()\n",
    "plt.imshow(digits.images[0],cmap='binary')\n",
    "plt.show()\n",
    "print(digits.target[0])\n",
    "# dir(digits)\n",
    "# digits.images.shape"
   ]
  },
  {
   "cell_type": "code",
   "execution_count": 3,
   "metadata": {},
   "outputs": [
    {
     "data": {
      "image/png": "[encoded data removed]",
      "text/plain": [
       "<Figure size 1080x360 with 10 Axes>"
      ]
     },
     "metadata": {
      "needs_background": "light"
     },
     "output_type": "display_data"
    }
   ],
   "source": [
    "fig = plt.figure(figsize = (15,5))\n",
    "for i in range(0,10):\n",
    "    plt.subplot(2,5,i+1)\n",
    "    plt.imshow(digits.images[i], cmap = 'binary')\n",
    "    plt.title(digits.target[i])\n",
    "    plt.axis('off')\n",
    "plt.show()"
   ]
  },
  {
   "cell_type": "code",
   "execution_count": 4,
   "metadata": {},
   "outputs": [],
   "source": [
    "x = digits.images.reshape((digits.images.shape[0],\n",
    "                           digits.images.shape[1] * digits.images.shape[2]))\n",
    "y = digits.target\n",
    "\n",
    "x_train = x[:1000]\n",
    "y_train = y[:1000]\n",
    "\n",
    "x_test = x[1000:]\n",
    "y_test = y[1000:]"
   ]
  },
  {
   "cell_type": "code",
   "execution_count": 5,
   "metadata": {},
   "outputs": [],
   "source": [
    "from sklearn.neural_network import MLPClassifier"
   ]
  },
  {
   "cell_type": "code",
   "execution_count": 37,
   "metadata": {},
   "outputs": [],
   "source": [
    "mlp = MLPClassifier(hidden_layer_sizes=(15,),\n",
    "                   activation='logistic',\n",
    "                   solver = 'sgd',\n",
    "                   tol = 1e-4,\n",
    "                   learning_rate_init=.1,\n",
    "                   verbose=True)"
   ]
  },
  {
   "cell_type": "code",
   "execution_count": 38,
   "metadata": {},
   "outputs": [
    {
     "name": "stdout",
     "output_type": "stream",
     "text": [
      "Iteration 1, loss = 2.21196592\n",
      "Iteration 2, loss = 1.84870547\n",
      "Iteration 3, loss = 1.55399269\n",
      "Iteration 4, loss = 1.25042288\n",
      "Iteration 5, loss = 0.98026917\n",
      "Iteration 6, loss = 0.76737640\n",
      "Iteration 7, loss = 0.61087920\n",
      "Iteration 8, loss = 0.49902293\n",
      "Iteration 9, loss = 0.41284061\n",
      "Iteration 10, loss = 0.34979010\n",
      "Iteration 11, loss = 0.29597867\n",
      "Iteration 12, loss = 0.25746321\n",
      "Iteration 13, loss = 0.22543748\n",
      "Iteration 14, loss = 0.20286801\n",
      "Iteration 15, loss = 0.18071454\n",
      "Iteration 16, loss = 0.16503320\n",
      "Iteration 17, loss = 0.15328924\n",
      "Iteration 18, loss = 0.14004932\n",
      "Iteration 19, loss = 0.13154015\n",
      "Iteration 20, loss = 0.12127660\n",
      "Iteration 21, loss = 0.11408281\n",
      "Iteration 22, loss = 0.10612062\n",
      "Iteration 23, loss = 0.09998770\n",
      "Iteration 24, loss = 0.09682209\n",
      "Iteration 25, loss = 0.09170494\n",
      "Iteration 26, loss = 0.08640903\n",
      "Iteration 27, loss = 0.08231785\n",
      "Iteration 28, loss = 0.07981743\n",
      "Iteration 29, loss = 0.07456087\n",
      "Iteration 30, loss = 0.07239907\n",
      "Iteration 31, loss = 0.06917276\n",
      "Iteration 32, loss = 0.06662866\n",
      "Iteration 33, loss = 0.06367386\n",
      "Iteration 34, loss = 0.06140686\n",
      "Iteration 35, loss = 0.05944566\n",
      "Iteration 36, loss = 0.05755651\n",
      "Iteration 37, loss = 0.05607404\n",
      "Iteration 38, loss = 0.05461448\n",
      "Iteration 39, loss = 0.05305011\n",
      "Iteration 40, loss = 0.05158248\n",
      "Iteration 41, loss = 0.05009844\n",
      "Iteration 42, loss = 0.04918016\n",
      "Iteration 43, loss = 0.04759561\n",
      "Iteration 44, loss = 0.04652722\n",
      "Iteration 45, loss = 0.04603606\n",
      "Iteration 46, loss = 0.04458875\n",
      "Iteration 47, loss = 0.04391707\n",
      "Iteration 48, loss = 0.04288247\n",
      "Iteration 49, loss = 0.04226903\n",
      "Iteration 50, loss = 0.04117335\n",
      "Iteration 51, loss = 0.04003826\n",
      "Iteration 52, loss = 0.03934946\n",
      "Iteration 53, loss = 0.03859514\n",
      "Iteration 54, loss = 0.03805380\n",
      "Iteration 55, loss = 0.03734535\n",
      "Iteration 56, loss = 0.03643995\n",
      "Iteration 57, loss = 0.03584858\n",
      "Iteration 58, loss = 0.03528664\n",
      "Iteration 59, loss = 0.03477603\n",
      "Iteration 60, loss = 0.03428632\n",
      "Iteration 61, loss = 0.03369883\n",
      "Iteration 62, loss = 0.03328269\n",
      "Iteration 63, loss = 0.03273153\n",
      "Iteration 64, loss = 0.03201887\n",
      "Iteration 65, loss = 0.03157768\n",
      "Iteration 66, loss = 0.03112229\n",
      "Iteration 67, loss = 0.03072750\n",
      "Iteration 68, loss = 0.03037241\n",
      "Iteration 69, loss = 0.03001695\n",
      "Iteration 70, loss = 0.02976103\n",
      "Iteration 71, loss = 0.02938949\n",
      "Iteration 72, loss = 0.02882195\n",
      "Iteration 73, loss = 0.02849668\n",
      "Iteration 74, loss = 0.02819017\n",
      "Iteration 75, loss = 0.02763562\n",
      "Iteration 76, loss = 0.02736305\n",
      "Iteration 77, loss = 0.02718062\n",
      "Iteration 78, loss = 0.02681694\n",
      "Iteration 79, loss = 0.02651538\n",
      "Iteration 80, loss = 0.02623221\n",
      "Iteration 81, loss = 0.02594067\n",
      "Iteration 82, loss = 0.02564054\n",
      "Iteration 83, loss = 0.02532285\n",
      "Iteration 84, loss = 0.02510298\n",
      "Iteration 85, loss = 0.02491171\n",
      "Iteration 86, loss = 0.02467161\n",
      "Iteration 87, loss = 0.02428168\n",
      "Iteration 88, loss = 0.02418252\n",
      "Iteration 89, loss = 0.02396831\n",
      "Iteration 90, loss = 0.02367838\n",
      "Iteration 91, loss = 0.02335864\n",
      "Iteration 92, loss = 0.02326344\n",
      "Iteration 93, loss = 0.02298853\n",
      "Iteration 94, loss = 0.02272310\n",
      "Iteration 95, loss = 0.02261646\n",
      "Iteration 96, loss = 0.02241947\n",
      "Iteration 97, loss = 0.02218392\n",
      "Iteration 98, loss = 0.02195647\n",
      "Iteration 99, loss = 0.02177421\n",
      "Iteration 100, loss = 0.02157825\n",
      "Iteration 101, loss = 0.02135142\n",
      "Iteration 102, loss = 0.02116919\n",
      "Iteration 103, loss = 0.02096556\n",
      "Iteration 104, loss = 0.02082998\n",
      "Iteration 105, loss = 0.02068945\n",
      "Iteration 106, loss = 0.02054281\n",
      "Iteration 107, loss = 0.02036501\n",
      "Iteration 108, loss = 0.02020762\n",
      "Iteration 109, loss = 0.01997133\n",
      "Iteration 110, loss = 0.01978526\n",
      "Iteration 111, loss = 0.01970178\n",
      "Iteration 112, loss = 0.01944628\n",
      "Iteration 113, loss = 0.01932084\n",
      "Iteration 114, loss = 0.01912102\n",
      "Iteration 115, loss = 0.01899455\n",
      "Iteration 116, loss = 0.01879251\n",
      "Iteration 117, loss = 0.01861653\n",
      "Iteration 118, loss = 0.01845825\n",
      "Iteration 119, loss = 0.01832520\n",
      "Iteration 120, loss = 0.01816921\n",
      "Iteration 121, loss = 0.01803988\n",
      "Iteration 122, loss = 0.01795127\n",
      "Iteration 123, loss = 0.01780349\n",
      "Iteration 124, loss = 0.01765410\n",
      "Iteration 125, loss = 0.01760655\n",
      "Iteration 126, loss = 0.01745627\n",
      "Iteration 127, loss = 0.01726964\n",
      "Iteration 128, loss = 0.01714191\n",
      "Iteration 129, loss = 0.01701586\n",
      "Iteration 130, loss = 0.01693247\n",
      "Iteration 131, loss = 0.01678286\n",
      "Iteration 132, loss = 0.01668427\n",
      "Iteration 133, loss = 0.01659162\n",
      "Iteration 134, loss = 0.01648205\n",
      "Iteration 135, loss = 0.01638454\n",
      "Iteration 136, loss = 0.01627565\n",
      "Iteration 137, loss = 0.01613020\n",
      "Iteration 138, loss = 0.01602809\n",
      "Iteration 139, loss = 0.01595200\n",
      "Iteration 140, loss = 0.01579625\n",
      "Iteration 141, loss = 0.01573627\n",
      "Iteration 142, loss = 0.01562054\n",
      "Iteration 143, loss = 0.01551591\n",
      "Iteration 144, loss = 0.01541281\n",
      "Iteration 145, loss = 0.01541153\n",
      "Iteration 146, loss = 0.01525796\n",
      "Iteration 147, loss = 0.01513500\n",
      "Iteration 148, loss = 0.01504634\n",
      "Iteration 149, loss = 0.01497236\n",
      "Iteration 150, loss = 0.01489943\n",
      "Iteration 151, loss = 0.01476704\n",
      "Iteration 152, loss = 0.01467761\n",
      "Iteration 153, loss = 0.01463258\n",
      "Iteration 154, loss = 0.01453908\n",
      "Iteration 155, loss = 0.01445695\n",
      "Iteration 156, loss = 0.01437175\n",
      "Iteration 157, loss = 0.01429230\n",
      "Iteration 158, loss = 0.01426161\n",
      "Iteration 159, loss = 0.01415199\n",
      "Iteration 160, loss = 0.01403028\n",
      "Iteration 161, loss = 0.01394032\n",
      "Iteration 162, loss = 0.01386246\n",
      "Iteration 163, loss = 0.01380918\n",
      "Iteration 164, loss = 0.01371569\n",
      "Iteration 165, loss = 0.01364990\n",
      "Iteration 166, loss = 0.01361356\n",
      "Iteration 167, loss = 0.01354268\n",
      "Iteration 168, loss = 0.01346176\n",
      "Iteration 169, loss = 0.01337092\n",
      "Iteration 170, loss = 0.01332278\n",
      "Iteration 171, loss = 0.01324114\n",
      "Training loss did not improve more than tol=0.000100 for 10 consecutive epochs. Stopping.\n"
     ]
    },
    {
     "data": {
      "text/plain": [
       "MLPClassifier(activation='logistic', alpha=0.0001, batch_size='auto',\n",
       "       beta_1=0.9, beta_2=0.999, early_stopping=False, epsilon=1e-08,\n",
       "       hidden_layer_sizes=(15,), learning_rate='constant',\n",
       "       learning_rate_init=0.1, max_iter=200, momentum=0.9,\n",
       "       n_iter_no_change=10, nesterovs_momentum=True, power_t=0.5,\n",
       "       random_state=None, shuffle=True, solver='sgd', tol=0.0001,\n",
       "       validation_fraction=0.1, verbose=True, warm_start=False)"
      ]
     },
     "execution_count": 38,
     "metadata": {},
     "output_type": "execute_result"
    }
   ],
   "source": [
    "mlp.fit(x_train,y_train)"
   ]
  },
  {
   "cell_type": "code",
   "execution_count": 39,
   "metadata": {},
   "outputs": [
    {
     "name": "stdout",
     "output_type": "stream",
     "text": [
      "[1 4 0 5 3 6 9 6 1 7]\n",
      "[1 4 0 5 3 6 9 6 1 7]\n"
     ]
    }
   ],
   "source": [
    "predictions = mlp.predict(x_test)\n",
    "print(predictions[:10])\n",
    "print(y_test[:10])"
   ]
  },
  {
   "cell_type": "code",
   "execution_count": 40,
   "metadata": {},
   "outputs": [],
   "source": [
    "from sklearn.metrics import confusion_matrix"
   ]
  },
  {
   "cell_type": "code",
   "execution_count": 41,
   "metadata": {},
   "outputs": [
    {
     "data": {
      "text/plain": [
       "array([[74,  0,  1,  0,  0,  2,  1,  1,  0,  0],\n",
       "       [ 1, 70,  0,  1,  1,  1,  0,  0,  2,  4],\n",
       "       [ 0,  0, 75,  2,  0,  0,  0,  0,  0,  0],\n",
       "       [ 0,  0,  1, 66,  0,  4,  1,  0,  6,  1],\n",
       "       [ 0,  1,  0,  0, 79,  0,  0,  0,  0,  3],\n",
       "       [ 0,  0,  0,  0,  0, 77,  4,  0,  0,  1],\n",
       "       [ 0,  1,  0,  0,  0,  0, 78,  0,  1,  0],\n",
       "       [ 0,  0,  0,  0,  4,  0,  0, 75,  0,  1],\n",
       "       [ 1,  3,  2,  1,  1,  3,  0,  1, 63,  1],\n",
       "       [ 2,  0,  0,  1,  0,  3,  0,  1,  1, 73]], dtype=int64)"
      ]
     },
     "execution_count": 41,
     "metadata": {},
     "output_type": "execute_result"
    }
   ],
   "source": [
    "confusion_matrix(y_test,predictions)"
   ]
  },
  {
   "cell_type": "code",
   "execution_count": 42,
   "metadata": {},
   "outputs": [],
   "source": [
    "import pandas as pd"
   ]
  },
  {
   "cell_type": "code",
   "execution_count": 43,
   "metadata": {},
   "outputs": [
    {
     "data": {
      "text/html": [
       "<div>\n",
       "<style scoped>\n",
       "    .dataframe tbody tr th:only-of-type {\n",
       "        vertical-align: middle;\n",
       "    }\n",
       "\n",
       "    .dataframe tbody tr th {\n",
       "        vertical-align: top;\n",
       "    }\n",
       "\n",
       "    .dataframe thead th {\n",
       "        text-align: right;\n",
       "    }\n",
       "</style>\n",
       "<table border=\"1\" class=\"dataframe\">\n",
       "  <thead>\n",
       "    <tr style=\"text-align: right;\">\n",
       "      <th>pradicted</th>\n",
       "      <th>0</th>\n",
       "      <th>1</th>\n",
       "      <th>2</th>\n",
       "      <th>3</th>\n",
       "      <th>4</th>\n",
       "      <th>5</th>\n",
       "      <th>6</th>\n",
       "      <th>7</th>\n",
       "      <th>8</th>\n",
       "      <th>9</th>\n",
       "      <th>All</th>\n",
       "    </tr>\n",
       "    <tr>\n",
       "      <th>True</th>\n",
       "      <th></th>\n",
       "      <th></th>\n",
       "      <th></th>\n",
       "      <th></th>\n",
       "      <th></th>\n",
       "      <th></th>\n",
       "      <th></th>\n",
       "      <th></th>\n",
       "      <th></th>\n",
       "      <th></th>\n",
       "      <th></th>\n",
       "    </tr>\n",
       "  </thead>\n",
       "  <tbody>\n",
       "    <tr>\n",
       "      <th>0</th>\n",
       "      <td>74</td>\n",
       "      <td>0</td>\n",
       "      <td>1</td>\n",
       "      <td>0</td>\n",
       "      <td>0</td>\n",
       "      <td>2</td>\n",
       "      <td>1</td>\n",
       "      <td>1</td>\n",
       "      <td>0</td>\n",
       "      <td>0</td>\n",
       "      <td>79</td>\n",
       "    </tr>\n",
       "    <tr>\n",
       "      <th>1</th>\n",
       "      <td>1</td>\n",
       "      <td>70</td>\n",
       "      <td>0</td>\n",
       "      <td>1</td>\n",
       "      <td>1</td>\n",
       "      <td>1</td>\n",
       "      <td>0</td>\n",
       "      <td>0</td>\n",
       "      <td>2</td>\n",
       "      <td>4</td>\n",
       "      <td>80</td>\n",
       "    </tr>\n",
       "    <tr>\n",
       "      <th>2</th>\n",
       "      <td>0</td>\n",
       "      <td>0</td>\n",
       "      <td>75</td>\n",
       "      <td>2</td>\n",
       "      <td>0</td>\n",
       "      <td>0</td>\n",
       "      <td>0</td>\n",
       "      <td>0</td>\n",
       "      <td>0</td>\n",
       "      <td>0</td>\n",
       "      <td>77</td>\n",
       "    </tr>\n",
       "    <tr>\n",
       "      <th>3</th>\n",
       "      <td>0</td>\n",
       "      <td>0</td>\n",
       "      <td>1</td>\n",
       "      <td>66</td>\n",
       "      <td>0</td>\n",
       "      <td>4</td>\n",
       "      <td>1</td>\n",
       "      <td>0</td>\n",
       "      <td>6</td>\n",
       "      <td>1</td>\n",
       "      <td>79</td>\n",
       "    </tr>\n",
       "    <tr>\n",
       "      <th>4</th>\n",
       "      <td>0</td>\n",
       "      <td>1</td>\n",
       "      <td>0</td>\n",
       "      <td>0</td>\n",
       "      <td>79</td>\n",
       "      <td>0</td>\n",
       "      <td>0</td>\n",
       "      <td>0</td>\n",
       "      <td>0</td>\n",
       "      <td>3</td>\n",
       "      <td>83</td>\n",
       "    </tr>\n",
       "    <tr>\n",
       "      <th>5</th>\n",
       "      <td>0</td>\n",
       "      <td>0</td>\n",
       "      <td>0</td>\n",
       "      <td>0</td>\n",
       "      <td>0</td>\n",
       "      <td>77</td>\n",
       "      <td>4</td>\n",
       "      <td>0</td>\n",
       "      <td>0</td>\n",
       "      <td>1</td>\n",
       "      <td>82</td>\n",
       "    </tr>\n",
       "    <tr>\n",
       "      <th>6</th>\n",
       "      <td>0</td>\n",
       "      <td>1</td>\n",
       "      <td>0</td>\n",
       "      <td>0</td>\n",
       "      <td>0</td>\n",
       "      <td>0</td>\n",
       "      <td>78</td>\n",
       "      <td>0</td>\n",
       "      <td>1</td>\n",
       "      <td>0</td>\n",
       "      <td>80</td>\n",
       "    </tr>\n",
       "    <tr>\n",
       "      <th>7</th>\n",
       "      <td>0</td>\n",
       "      <td>0</td>\n",
       "      <td>0</td>\n",
       "      <td>0</td>\n",
       "      <td>4</td>\n",
       "      <td>0</td>\n",
       "      <td>0</td>\n",
       "      <td>75</td>\n",
       "      <td>0</td>\n",
       "      <td>1</td>\n",
       "      <td>80</td>\n",
       "    </tr>\n",
       "    <tr>\n",
       "      <th>8</th>\n",
       "      <td>1</td>\n",
       "      <td>3</td>\n",
       "      <td>2</td>\n",
       "      <td>1</td>\n",
       "      <td>1</td>\n",
       "      <td>3</td>\n",
       "      <td>0</td>\n",
       "      <td>1</td>\n",
       "      <td>63</td>\n",
       "      <td>1</td>\n",
       "      <td>76</td>\n",
       "    </tr>\n",
       "    <tr>\n",
       "      <th>9</th>\n",
       "      <td>2</td>\n",
       "      <td>0</td>\n",
       "      <td>0</td>\n",
       "      <td>1</td>\n",
       "      <td>0</td>\n",
       "      <td>3</td>\n",
       "      <td>0</td>\n",
       "      <td>1</td>\n",
       "      <td>1</td>\n",
       "      <td>73</td>\n",
       "      <td>81</td>\n",
       "    </tr>\n",
       "    <tr>\n",
       "      <th>All</th>\n",
       "      <td>78</td>\n",
       "      <td>75</td>\n",
       "      <td>79</td>\n",
       "      <td>71</td>\n",
       "      <td>85</td>\n",
       "      <td>90</td>\n",
       "      <td>84</td>\n",
       "      <td>78</td>\n",
       "      <td>73</td>\n",
       "      <td>84</td>\n",
       "      <td>797</td>\n",
       "    </tr>\n",
       "  </tbody>\n",
       "</table>\n",
       "</div>"
      ],
      "text/plain": [
       "pradicted   0   1   2   3   4   5   6   7   8   9  All\n",
       "True                                                  \n",
       "0          74   0   1   0   0   2   1   1   0   0   79\n",
       "1           1  70   0   1   1   1   0   0   2   4   80\n",
       "2           0   0  75   2   0   0   0   0   0   0   77\n",
       "3           0   0   1  66   0   4   1   0   6   1   79\n",
       "4           0   1   0   0  79   0   0   0   0   3   83\n",
       "5           0   0   0   0   0  77   4   0   0   1   82\n",
       "6           0   1   0   0   0   0  78   0   1   0   80\n",
       "7           0   0   0   0   4   0   0  75   0   1   80\n",
       "8           1   3   2   1   1   3   0   1  63   1   76\n",
       "9           2   0   0   1   0   3   0   1   1  73   81\n",
       "All        78  75  79  71  85  90  84  78  73  84  797"
      ]
     },
     "execution_count": 43,
     "metadata": {},
     "output_type": "execute_result"
    }
   ],
   "source": [
    "pd.crosstab(y_test,predictions,rownames=[\"True\"],colnames=[\"pradicted\"],margins = True)"
   ]
  },
  {
   "cell_type": "code",
   "execution_count": 44,
   "metadata": {},
   "outputs": [],
   "source": [
    "error = []\n",
    "for i in range(0,len(y_test)):\n",
    "    if predictions[i] == 9 and y_test[i] == 1:\n",
    "        error.append(i+1000)"
   ]
  },
  {
   "cell_type": "code",
   "execution_count": 45,
   "metadata": {},
   "outputs": [
    {
     "data": {
      "image/png": "[encoded data removed]",
      "text/plain": [
       "<Figure size 360x360 with 4 Axes>"
      ]
     },
     "metadata": {
      "needs_background": "light"
     },
     "output_type": "display_data"
    }
   ],
   "source": [
    "fig = plt.figure(figsize = (5,5))\n",
    "for i in range(0,len(error)):\n",
    "    plt.subplot(2,3,i+1)\n",
    "    plt.imshow(digits.images[error[i]], cmap = 'binary')\n",
    "    plt.title(digits.target[error[i]])\n",
    "    plt.axis('off')\n",
    "plt.show()"
   ]
  },
  {
   "cell_type": "code",
   "execution_count": null,
   "metadata": {},
   "outputs": [],
   "source": []
  }
 ],
 "metadata": {
  "kernelspec": {
   "display_name": "Python 3",
   "language": "python",
   "name": "python3"
  },
  "language_info": {
   "codemirror_mode": {
    "name": "ipython",
    "version": 3
   },
   "file_extension": ".py",
   "mimetype": "text/x-python",
   "name": "python",
   "nbconvert_exporter": "python",
   "pygments_lexer": "ipython3",
   "version": "3.7.3"
  }
 },
 "nbformat": 4,
 "nbformat_minor": 2
}
