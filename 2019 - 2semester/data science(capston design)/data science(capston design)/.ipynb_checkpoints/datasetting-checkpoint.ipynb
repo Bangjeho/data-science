{
 "cells": [
  {
   "cell_type": "code",
   "execution_count": 185,
   "metadata": {},
   "outputs": [],
   "source": [
    "import pandas as pd\n",
    "import matplotlib.pyplot as plt"
   ]
  },
  {
   "cell_type": "code",
   "execution_count": 186,
   "metadata": {},
   "outputs": [],
   "source": [
    "data_seoul = pd.read_csv('Airbnb Listings in Seoul (May 2016).csv')"
   ]
  },
  {
   "cell_type": "code",
   "execution_count": 187,
   "metadata": {},
   "outputs": [
    {
     "name": "stdout",
     "output_type": "stream",
     "text": [
      "<class 'pandas.core.frame.DataFrame'>\n",
      "RangeIndex: 8519 entries, 0 to 8518\n",
      "Data columns (total 16 columns):\n",
      "Unnamed: 0              8519 non-null int64\n",
      "room_id                 8519 non-null int64\n",
      "host_id                 8519 non-null int64\n",
      "room_type               8519 non-null object\n",
      "borough                 8519 non-null object\n",
      "neighborhood            8519 non-null object\n",
      "reviews                 8519 non-null int64\n",
      "overall_satisfaction    3940 non-null float64\n",
      "accommodates            8519 non-null int64\n",
      "bedrooms                8516 non-null float64\n",
      "bathrooms               8008 non-null float64\n",
      "price                   8519 non-null int64\n",
      "minstay                 8295 non-null float64\n",
      "latitude                8519 non-null float64\n",
      "longitude               8519 non-null float64\n",
      "collected               8519 non-null object\n",
      "dtypes: float64(6), int64(6), object(4)\n",
      "memory usage: 1.0+ MB\n"
     ]
    }
   ],
   "source": [
    "data_seoul.info()"
   ]
  },
  {
   "cell_type": "code",
   "execution_count": 188,
   "metadata": {
    "scrolled": true
   },
   "outputs": [
    {
     "data": {
      "text/html": [
       "<div>\n",
       "<style scoped>\n",
       "    .dataframe tbody tr th:only-of-type {\n",
       "        vertical-align: middle;\n",
       "    }\n",
       "\n",
       "    .dataframe tbody tr th {\n",
       "        vertical-align: top;\n",
       "    }\n",
       "\n",
       "    .dataframe thead th {\n",
       "        text-align: right;\n",
       "    }\n",
       "</style>\n",
       "<table border=\"1\" class=\"dataframe\">\n",
       "  <thead>\n",
       "    <tr style=\"text-align: right;\">\n",
       "      <th></th>\n",
       "      <th>Unnamed: 0</th>\n",
       "      <th>room_id</th>\n",
       "      <th>host_id</th>\n",
       "      <th>room_type</th>\n",
       "      <th>borough</th>\n",
       "      <th>neighborhood</th>\n",
       "      <th>reviews</th>\n",
       "      <th>overall_satisfaction</th>\n",
       "      <th>accommodates</th>\n",
       "      <th>bedrooms</th>\n",
       "      <th>bathrooms</th>\n",
       "      <th>price</th>\n",
       "      <th>minstay</th>\n",
       "      <th>latitude</th>\n",
       "      <th>longitude</th>\n",
       "      <th>collected</th>\n",
       "    </tr>\n",
       "  </thead>\n",
       "  <tbody>\n",
       "    <tr>\n",
       "      <td>0</td>\n",
       "      <td>0</td>\n",
       "      <td>35108</td>\n",
       "      <td>151117</td>\n",
       "      <td>Shared room</td>\n",
       "      <td>Seoul</td>\n",
       "      <td>Changjeon-dong</td>\n",
       "      <td>2</td>\n",
       "      <td>NaN</td>\n",
       "      <td>6</td>\n",
       "      <td>1.0</td>\n",
       "      <td>1.0</td>\n",
       "      <td>20</td>\n",
       "      <td>2.0</td>\n",
       "      <td>37.553134</td>\n",
       "      <td>126.925835</td>\n",
       "      <td>31:54.5</td>\n",
       "    </tr>\n",
       "    <tr>\n",
       "      <td>1</td>\n",
       "      <td>1</td>\n",
       "      <td>50657</td>\n",
       "      <td>151117</td>\n",
       "      <td>Private room</td>\n",
       "      <td>Seoul</td>\n",
       "      <td>Seogyo-dong</td>\n",
       "      <td>7</td>\n",
       "      <td>4.5</td>\n",
       "      <td>1</td>\n",
       "      <td>1.0</td>\n",
       "      <td>1.0</td>\n",
       "      <td>46</td>\n",
       "      <td>2.0</td>\n",
       "      <td>37.555893</td>\n",
       "      <td>126.928023</td>\n",
       "      <td>19:52.4</td>\n",
       "    </tr>\n",
       "    <tr>\n",
       "      <td>2</td>\n",
       "      <td>2</td>\n",
       "      <td>50809</td>\n",
       "      <td>233925</td>\n",
       "      <td>Entire home/apt</td>\n",
       "      <td>Seoul</td>\n",
       "      <td>Yeongeon-dong</td>\n",
       "      <td>8</td>\n",
       "      <td>5.0</td>\n",
       "      <td>2</td>\n",
       "      <td>0.0</td>\n",
       "      <td>1.0</td>\n",
       "      <td>151</td>\n",
       "      <td>1.0</td>\n",
       "      <td>37.576998</td>\n",
       "      <td>126.997793</td>\n",
       "      <td>55:38.2</td>\n",
       "    </tr>\n",
       "    <tr>\n",
       "      <td>3</td>\n",
       "      <td>3</td>\n",
       "      <td>81855</td>\n",
       "      <td>444785</td>\n",
       "      <td>Shared room</td>\n",
       "      <td>Seoul</td>\n",
       "      <td>Waryong-dong</td>\n",
       "      <td>6</td>\n",
       "      <td>4.5</td>\n",
       "      <td>6</td>\n",
       "      <td>1.0</td>\n",
       "      <td>1.0</td>\n",
       "      <td>14</td>\n",
       "      <td>1.0</td>\n",
       "      <td>37.575486</td>\n",
       "      <td>126.990546</td>\n",
       "      <td>12:35.7</td>\n",
       "    </tr>\n",
       "    <tr>\n",
       "      <td>4</td>\n",
       "      <td>4</td>\n",
       "      <td>81858</td>\n",
       "      <td>444785</td>\n",
       "      <td>Private room</td>\n",
       "      <td>Seoul</td>\n",
       "      <td>Gwonnong-dong</td>\n",
       "      <td>2</td>\n",
       "      <td>NaN</td>\n",
       "      <td>1</td>\n",
       "      <td>1.0</td>\n",
       "      <td>1.0</td>\n",
       "      <td>35</td>\n",
       "      <td>1.0</td>\n",
       "      <td>37.577231</td>\n",
       "      <td>126.991428</td>\n",
       "      <td>59:50.5</td>\n",
       "    </tr>\n",
       "  </tbody>\n",
       "</table>\n",
       "</div>"
      ],
      "text/plain": [
       "   Unnamed: 0  room_id  host_id        room_type borough    neighborhood  \\\n",
       "0           0    35108   151117      Shared room   Seoul  Changjeon-dong   \n",
       "1           1    50657   151117     Private room   Seoul     Seogyo-dong   \n",
       "2           2    50809   233925  Entire home/apt   Seoul   Yeongeon-dong   \n",
       "3           3    81855   444785      Shared room   Seoul    Waryong-dong   \n",
       "4           4    81858   444785     Private room   Seoul   Gwonnong-dong   \n",
       "\n",
       "   reviews  overall_satisfaction  accommodates  bedrooms  bathrooms  price  \\\n",
       "0        2                   NaN             6       1.0        1.0     20   \n",
       "1        7                   4.5             1       1.0        1.0     46   \n",
       "2        8                   5.0             2       0.0        1.0    151   \n",
       "3        6                   4.5             6       1.0        1.0     14   \n",
       "4        2                   NaN             1       1.0        1.0     35   \n",
       "\n",
       "   minstay   latitude   longitude collected  \n",
       "0      2.0  37.553134  126.925835   31:54.5  \n",
       "1      2.0  37.555893  126.928023   19:52.4  \n",
       "2      1.0  37.576998  126.997793   55:38.2  \n",
       "3      1.0  37.575486  126.990546   12:35.7  \n",
       "4      1.0  37.577231  126.991428   59:50.5  "
      ]
     },
     "execution_count": 188,
     "metadata": {},
     "output_type": "execute_result"
    }
   ],
   "source": [
    "data_seoul.head(5) #accommodates = 최대 수용 인원 수/ # minstay = 최소 숙박 수"
   ]
  },
  {
   "cell_type": "code",
   "execution_count": 189,
   "metadata": {},
   "outputs": [
    {
     "data": {
      "text/plain": [
       "Unnamed: 0                 0\n",
       "room_id                    0\n",
       "host_id                    0\n",
       "room_type                  0\n",
       "borough                    0\n",
       "neighborhood               0\n",
       "reviews                    0\n",
       "overall_satisfaction    4579\n",
       "accommodates               0\n",
       "bedrooms                   3\n",
       "bathrooms                511\n",
       "price                      0\n",
       "minstay                  224\n",
       "latitude                   0\n",
       "longitude                  0\n",
       "collected                  0\n",
       "dtype: int64"
      ]
     },
     "execution_count": 189,
     "metadata": {},
     "output_type": "execute_result"
    }
   ],
   "source": [
    "data_seoul.isnull().sum()"
   ]
  },
  {
   "cell_type": "code",
   "execution_count": 190,
   "metadata": {},
   "outputs": [
    {
     "data": {
      "text/plain": [
       "Donggyo-dong             543\n",
       "Seogyo-dong              473\n",
       "Yeoksam-dong             435\n",
       "Yeonnam-dong             316\n",
       "Itaewon-dong             271\n",
       "                        ... \n",
       "Okcheon-dong               1\n",
       "Bomun-dong 1(il)-ga        1\n",
       "Bongnae-dong 1(il)-ga      1\n",
       "Doseon-dong                1\n",
       "Anam-dong 5(o)-ga          1\n",
       "Name: neighborhood, Length: 424, dtype: int64"
      ]
     },
     "execution_count": 190,
     "metadata": {},
     "output_type": "execute_result"
    }
   ],
   "source": [
    "data_seoul[\"neighborhood\"].value_counts()"
   ]
  },
  {
   "cell_type": "code",
   "execution_count": 191,
   "metadata": {},
   "outputs": [
    {
     "data": {
      "image/png": "[encoded data removed]",
      "text/plain": [
       "<Figure size 1440x1080 with 12 Axes>"
      ]
     },
     "metadata": {
      "needs_background": "light"
     },
     "output_type": "display_data"
    }
   ],
   "source": [
    "data_seoul.hist(bins =50, figsize =(20,15))\n",
    "plt.show()"
   ]
  },
  {
   "cell_type": "code",
   "execution_count": 192,
   "metadata": {
    "scrolled": true
   },
   "outputs": [
    {
     "data": {
      "text/plain": [
       "<matplotlib.axes._subplots.AxesSubplot at 0x2a793223128>"
      ]
     },
     "execution_count": 192,
     "metadata": {},
     "output_type": "execute_result"
    },
    {
     "data": {
      "image/png": "[encoded data removed]",
      "text/plain": [
       "<Figure size 432x288 with 2 Axes>"
      ]
     },
     "metadata": {
      "needs_background": "light"
     },
     "output_type": "display_data"
    }
   ],
   "source": [
    "data_seoul.plot(kind = 'scatter', x = 'longitude', y ='latitude', alpha = 0.3,\n",
    "                 c = 'price',cmap = plt.get_cmap('jet'),\n",
    "                colorbar = True, sharex = False)"
   ]
  },
  {
   "cell_type": "code",
   "execution_count": 193,
   "metadata": {},
   "outputs": [
    {
     "data": {
      "text/plain": [
       "price                   1.000000\n",
       "bedrooms                0.020909\n",
       "accommodates            0.015779\n",
       "host_id                 0.007301\n",
       "room_id                 0.006309\n",
       "Unnamed: 0              0.005260\n",
       "bathrooms               0.004828\n",
       "latitude                0.003476\n",
       "longitude               0.001608\n",
       "minstay                 0.000333\n",
       "reviews                -0.010012\n",
       "overall_satisfaction   -0.012199\n",
       "Name: price, dtype: float64"
      ]
     },
     "execution_count": 193,
     "metadata": {},
     "output_type": "execute_result"
    }
   ],
   "source": [
    "corr_matrix = data_seoul.corr()\n",
    "corr_matrix['price'].sort_values(ascending =False)"
   ]
  },
  {
   "cell_type": "code",
   "execution_count": 194,
   "metadata": {},
   "outputs": [],
   "source": [
    "drop_data = [\"Unnamed: 0\",'room_id','host_id','borough','neighborhood',\n",
    " 'reviews','overall_satisfaction','collected']\n",
    "data_seoul.drop(drop_data,axis = 1,inplace = True)"
   ]
  },
  {
   "cell_type": "code",
   "execution_count": 195,
   "metadata": {},
   "outputs": [
    {
     "name": "stdout",
     "output_type": "stream",
     "text": [
      "<class 'pandas.core.frame.DataFrame'>\n",
      "RangeIndex: 8519 entries, 0 to 8518\n",
      "Data columns (total 8 columns):\n",
      "room_type       8519 non-null object\n",
      "accommodates    8519 non-null int64\n",
      "bedrooms        8516 non-null float64\n",
      "bathrooms       8008 non-null float64\n",
      "price           8519 non-null int64\n",
      "minstay         8295 non-null float64\n",
      "latitude        8519 non-null float64\n",
      "longitude       8519 non-null float64\n",
      "dtypes: float64(5), int64(2), object(1)\n",
      "memory usage: 532.6+ KB\n"
     ]
    }
   ],
   "source": [
    "data_seoul.info()"
   ]
  },
  {
   "cell_type": "code",
   "execution_count": 196,
   "metadata": {},
   "outputs": [
    {
     "data": {
      "text/plain": [
       "array([[0., 0., 1.],\n",
       "       [0., 1., 0.],\n",
       "       [1., 0., 0.],\n",
       "       ...,\n",
       "       [1., 0., 0.],\n",
       "       [1., 0., 0.],\n",
       "       [0., 1., 0.]])"
      ]
     },
     "execution_count": 196,
     "metadata": {},
     "output_type": "execute_result"
    }
   ],
   "source": [
    "from sklearn.preprocessing import OneHotEncoder\n",
    "\n",
    "roomtype = data_seoul[['room_type']]\n",
    "encoder = OneHotEncoder()\n",
    "roomtype = encoder.fit_transform(roomtype)\n",
    "roomtype.toarray()"
   ]
  },
  {
   "cell_type": "code",
   "execution_count": 197,
   "metadata": {},
   "outputs": [],
   "source": [
    "roomtype = pd.DataFrame(columns = encoder.categories_[0],data = roomtype.toarray())"
   ]
  },
  {
   "cell_type": "code",
   "execution_count": 198,
   "metadata": {},
   "outputs": [
    {
     "data": {
      "text/html": [
       "<div>\n",
       "<style scoped>\n",
       "    .dataframe tbody tr th:only-of-type {\n",
       "        vertical-align: middle;\n",
       "    }\n",
       "\n",
       "    .dataframe tbody tr th {\n",
       "        vertical-align: top;\n",
       "    }\n",
       "\n",
       "    .dataframe thead th {\n",
       "        text-align: right;\n",
       "    }\n",
       "</style>\n",
       "<table border=\"1\" class=\"dataframe\">\n",
       "  <thead>\n",
       "    <tr style=\"text-align: right;\">\n",
       "      <th></th>\n",
       "      <th>Entire home/apt</th>\n",
       "      <th>Private room</th>\n",
       "      <th>Shared room</th>\n",
       "    </tr>\n",
       "  </thead>\n",
       "  <tbody>\n",
       "    <tr>\n",
       "      <td>0</td>\n",
       "      <td>0.0</td>\n",
       "      <td>0.0</td>\n",
       "      <td>1.0</td>\n",
       "    </tr>\n",
       "    <tr>\n",
       "      <td>1</td>\n",
       "      <td>0.0</td>\n",
       "      <td>1.0</td>\n",
       "      <td>0.0</td>\n",
       "    </tr>\n",
       "    <tr>\n",
       "      <td>2</td>\n",
       "      <td>1.0</td>\n",
       "      <td>0.0</td>\n",
       "      <td>0.0</td>\n",
       "    </tr>\n",
       "    <tr>\n",
       "      <td>3</td>\n",
       "      <td>0.0</td>\n",
       "      <td>0.0</td>\n",
       "      <td>1.0</td>\n",
       "    </tr>\n",
       "    <tr>\n",
       "      <td>4</td>\n",
       "      <td>0.0</td>\n",
       "      <td>1.0</td>\n",
       "      <td>0.0</td>\n",
       "    </tr>\n",
       "  </tbody>\n",
       "</table>\n",
       "</div>"
      ],
      "text/plain": [
       "   Entire home/apt  Private room  Shared room\n",
       "0              0.0           0.0          1.0\n",
       "1              0.0           1.0          0.0\n",
       "2              1.0           0.0          0.0\n",
       "3              0.0           0.0          1.0\n",
       "4              0.0           1.0          0.0"
      ]
     },
     "execution_count": 198,
     "metadata": {},
     "output_type": "execute_result"
    }
   ],
   "source": [
    "roomtype.head()"
   ]
  },
  {
   "cell_type": "code",
   "execution_count": 199,
   "metadata": {},
   "outputs": [
    {
     "data": {
      "text/html": [
       "<div>\n",
       "<style scoped>\n",
       "    .dataframe tbody tr th:only-of-type {\n",
       "        vertical-align: middle;\n",
       "    }\n",
       "\n",
       "    .dataframe tbody tr th {\n",
       "        vertical-align: top;\n",
       "    }\n",
       "\n",
       "    .dataframe thead th {\n",
       "        text-align: right;\n",
       "    }\n",
       "</style>\n",
       "<table border=\"1\" class=\"dataframe\">\n",
       "  <thead>\n",
       "    <tr style=\"text-align: right;\">\n",
       "      <th></th>\n",
       "      <th>accommodates</th>\n",
       "      <th>bedrooms</th>\n",
       "      <th>bathrooms</th>\n",
       "      <th>minstay</th>\n",
       "      <th>latitude</th>\n",
       "      <th>longitude</th>\n",
       "    </tr>\n",
       "  </thead>\n",
       "  <tbody>\n",
       "    <tr>\n",
       "      <td>0</td>\n",
       "      <td>6</td>\n",
       "      <td>1.0</td>\n",
       "      <td>1.0</td>\n",
       "      <td>2.0</td>\n",
       "      <td>37.553134</td>\n",
       "      <td>126.925835</td>\n",
       "    </tr>\n",
       "    <tr>\n",
       "      <td>1</td>\n",
       "      <td>1</td>\n",
       "      <td>1.0</td>\n",
       "      <td>1.0</td>\n",
       "      <td>2.0</td>\n",
       "      <td>37.555893</td>\n",
       "      <td>126.928023</td>\n",
       "    </tr>\n",
       "    <tr>\n",
       "      <td>2</td>\n",
       "      <td>2</td>\n",
       "      <td>0.0</td>\n",
       "      <td>1.0</td>\n",
       "      <td>1.0</td>\n",
       "      <td>37.576998</td>\n",
       "      <td>126.997793</td>\n",
       "    </tr>\n",
       "    <tr>\n",
       "      <td>3</td>\n",
       "      <td>6</td>\n",
       "      <td>1.0</td>\n",
       "      <td>1.0</td>\n",
       "      <td>1.0</td>\n",
       "      <td>37.575486</td>\n",
       "      <td>126.990546</td>\n",
       "    </tr>\n",
       "    <tr>\n",
       "      <td>4</td>\n",
       "      <td>1</td>\n",
       "      <td>1.0</td>\n",
       "      <td>1.0</td>\n",
       "      <td>1.0</td>\n",
       "      <td>37.577231</td>\n",
       "      <td>126.991428</td>\n",
       "    </tr>\n",
       "    <tr>\n",
       "      <td>...</td>\n",
       "      <td>...</td>\n",
       "      <td>...</td>\n",
       "      <td>...</td>\n",
       "      <td>...</td>\n",
       "      <td>...</td>\n",
       "      <td>...</td>\n",
       "    </tr>\n",
       "    <tr>\n",
       "      <td>8514</td>\n",
       "      <td>2</td>\n",
       "      <td>1.0</td>\n",
       "      <td>1.0</td>\n",
       "      <td>NaN</td>\n",
       "      <td>37.506332</td>\n",
       "      <td>127.060751</td>\n",
       "    </tr>\n",
       "    <tr>\n",
       "      <td>8515</td>\n",
       "      <td>1</td>\n",
       "      <td>1.0</td>\n",
       "      <td>1.0</td>\n",
       "      <td>NaN</td>\n",
       "      <td>37.562959</td>\n",
       "      <td>127.032475</td>\n",
       "    </tr>\n",
       "    <tr>\n",
       "      <td>8516</td>\n",
       "      <td>4</td>\n",
       "      <td>1.0</td>\n",
       "      <td>1.0</td>\n",
       "      <td>1.0</td>\n",
       "      <td>37.561568</td>\n",
       "      <td>126.924160</td>\n",
       "    </tr>\n",
       "    <tr>\n",
       "      <td>8517</td>\n",
       "      <td>4</td>\n",
       "      <td>1.0</td>\n",
       "      <td>1.0</td>\n",
       "      <td>2.0</td>\n",
       "      <td>37.562035</td>\n",
       "      <td>126.924369</td>\n",
       "    </tr>\n",
       "    <tr>\n",
       "      <td>8518</td>\n",
       "      <td>3</td>\n",
       "      <td>1.0</td>\n",
       "      <td>1.0</td>\n",
       "      <td>1.0</td>\n",
       "      <td>37.556520</td>\n",
       "      <td>126.936224</td>\n",
       "    </tr>\n",
       "  </tbody>\n",
       "</table>\n",
       "<p>8519 rows × 6 columns</p>\n",
       "</div>"
      ],
      "text/plain": [
       "      accommodates  bedrooms  bathrooms  minstay   latitude   longitude\n",
       "0                6       1.0        1.0      2.0  37.553134  126.925835\n",
       "1                1       1.0        1.0      2.0  37.555893  126.928023\n",
       "2                2       0.0        1.0      1.0  37.576998  126.997793\n",
       "3                6       1.0        1.0      1.0  37.575486  126.990546\n",
       "4                1       1.0        1.0      1.0  37.577231  126.991428\n",
       "...            ...       ...        ...      ...        ...         ...\n",
       "8514             2       1.0        1.0      NaN  37.506332  127.060751\n",
       "8515             1       1.0        1.0      NaN  37.562959  127.032475\n",
       "8516             4       1.0        1.0      1.0  37.561568  126.924160\n",
       "8517             4       1.0        1.0      2.0  37.562035  126.924369\n",
       "8518             3       1.0        1.0      1.0  37.556520  126.936224\n",
       "\n",
       "[8519 rows x 6 columns]"
      ]
     },
     "execution_count": 199,
     "metadata": {},
     "output_type": "execute_result"
    }
   ],
   "source": [
    "value = data_seoul[['price']]\n",
    "data_seoul.drop(['price','room_type'],axis = 1 , inplace = True)\n",
    "data_seoul"
   ]
  },
  {
   "cell_type": "code",
   "execution_count": 200,
   "metadata": {},
   "outputs": [],
   "source": [
    "data = pd.concat([data_seoul,roomtype,value], axis = 1)"
   ]
  },
  {
   "cell_type": "code",
   "execution_count": 201,
   "metadata": {},
   "outputs": [
    {
     "data": {
      "text/html": [
       "<div>\n",
       "<style scoped>\n",
       "    .dataframe tbody tr th:only-of-type {\n",
       "        vertical-align: middle;\n",
       "    }\n",
       "\n",
       "    .dataframe tbody tr th {\n",
       "        vertical-align: top;\n",
       "    }\n",
       "\n",
       "    .dataframe thead th {\n",
       "        text-align: right;\n",
       "    }\n",
       "</style>\n",
       "<table border=\"1\" class=\"dataframe\">\n",
       "  <thead>\n",
       "    <tr style=\"text-align: right;\">\n",
       "      <th></th>\n",
       "      <th>accommodates</th>\n",
       "      <th>bedrooms</th>\n",
       "      <th>bathrooms</th>\n",
       "      <th>minstay</th>\n",
       "      <th>latitude</th>\n",
       "      <th>longitude</th>\n",
       "      <th>Entire home/apt</th>\n",
       "      <th>Private room</th>\n",
       "      <th>Shared room</th>\n",
       "      <th>price</th>\n",
       "    </tr>\n",
       "  </thead>\n",
       "  <tbody>\n",
       "    <tr>\n",
       "      <td>0</td>\n",
       "      <td>6</td>\n",
       "      <td>1.0</td>\n",
       "      <td>1.0</td>\n",
       "      <td>2.0</td>\n",
       "      <td>37.553134</td>\n",
       "      <td>126.925835</td>\n",
       "      <td>0.0</td>\n",
       "      <td>0.0</td>\n",
       "      <td>1.0</td>\n",
       "      <td>20</td>\n",
       "    </tr>\n",
       "    <tr>\n",
       "      <td>1</td>\n",
       "      <td>1</td>\n",
       "      <td>1.0</td>\n",
       "      <td>1.0</td>\n",
       "      <td>2.0</td>\n",
       "      <td>37.555893</td>\n",
       "      <td>126.928023</td>\n",
       "      <td>0.0</td>\n",
       "      <td>1.0</td>\n",
       "      <td>0.0</td>\n",
       "      <td>46</td>\n",
       "    </tr>\n",
       "    <tr>\n",
       "      <td>2</td>\n",
       "      <td>2</td>\n",
       "      <td>0.0</td>\n",
       "      <td>1.0</td>\n",
       "      <td>1.0</td>\n",
       "      <td>37.576998</td>\n",
       "      <td>126.997793</td>\n",
       "      <td>1.0</td>\n",
       "      <td>0.0</td>\n",
       "      <td>0.0</td>\n",
       "      <td>151</td>\n",
       "    </tr>\n",
       "    <tr>\n",
       "      <td>3</td>\n",
       "      <td>6</td>\n",
       "      <td>1.0</td>\n",
       "      <td>1.0</td>\n",
       "      <td>1.0</td>\n",
       "      <td>37.575486</td>\n",
       "      <td>126.990546</td>\n",
       "      <td>0.0</td>\n",
       "      <td>0.0</td>\n",
       "      <td>1.0</td>\n",
       "      <td>14</td>\n",
       "    </tr>\n",
       "    <tr>\n",
       "      <td>4</td>\n",
       "      <td>1</td>\n",
       "      <td>1.0</td>\n",
       "      <td>1.0</td>\n",
       "      <td>1.0</td>\n",
       "      <td>37.577231</td>\n",
       "      <td>126.991428</td>\n",
       "      <td>0.0</td>\n",
       "      <td>1.0</td>\n",
       "      <td>0.0</td>\n",
       "      <td>35</td>\n",
       "    </tr>\n",
       "  </tbody>\n",
       "</table>\n",
       "</div>"
      ],
      "text/plain": [
       "   accommodates  bedrooms  bathrooms  minstay   latitude   longitude  \\\n",
       "0             6       1.0        1.0      2.0  37.553134  126.925835   \n",
       "1             1       1.0        1.0      2.0  37.555893  126.928023   \n",
       "2             2       0.0        1.0      1.0  37.576998  126.997793   \n",
       "3             6       1.0        1.0      1.0  37.575486  126.990546   \n",
       "4             1       1.0        1.0      1.0  37.577231  126.991428   \n",
       "\n",
       "   Entire home/apt  Private room  Shared room  price  \n",
       "0              0.0           0.0          1.0     20  \n",
       "1              0.0           1.0          0.0     46  \n",
       "2              1.0           0.0          0.0    151  \n",
       "3              0.0           0.0          1.0     14  \n",
       "4              0.0           1.0          0.0     35  "
      ]
     },
     "execution_count": 201,
     "metadata": {},
     "output_type": "execute_result"
    }
   ],
   "source": [
    "data.head()"
   ]
  },
  {
   "cell_type": "code",
   "execution_count": 202,
   "metadata": {},
   "outputs": [
    {
     "data": {
      "text/plain": [
       "array([   20,    46,   151,    14,    35,    36,    37,    59,    98,\n",
       "         114,   157,   119,   109,    55,    71,   200,   212,    50,\n",
       "         113,    52,    30,   201,    45,    65,    60,    90,    15,\n",
       "          85,    88,    80,    95,    40,    77,    57,    39,   185,\n",
       "          49,    13,    67,    25,    23,    38,   225,   205,    10,\n",
       "          72,    56,    31,    81,    24,    18,    63,    75,    93,\n",
       "         110,    53,    78,    70,    48,    79,    87,    96,   131,\n",
       "          43,    61,    99,   167,   174,    42,    21,    12,    51,\n",
       "          34,    91,   139,    26,   108,    28,    47,    84,    41,\n",
       "          62,   130,   102,    74,    16,    29,    33,    58,   124,\n",
       "         105,   117,   155,    22,    69,   309,   515,   400,    54,\n",
       "         180,    92,   350,    83,   123,    27,   234,    97,   260,\n",
       "         150,    73,   192,    19,    76,    82,    32,    66,    11,\n",
       "         104,   249,   100,    44,   103,   287,    17,   219,   305,\n",
       "          64,   170,   149,   436,   392,   262,    68,   144,   125,\n",
       "          94,   116,   126,   349,   101,   208,   143,   190,   122,\n",
       "         721,   166,   133,   216,   160,   297,   390,   218,   261,\n",
       "         120,   145,   118,   115,   156,   313,   500,   152,   132,\n",
       "         300,   258,   175,    89,   134,   135,   480,  1077,   232,\n",
       "         206,  1745,   173,   306,   227,   697,   148,   140,   244,\n",
       "        1116,   236,   165,   112,   330,   250,   277,  1151,   384,\n",
       "         111,   243,   179,   235,   256,   171,   199,   340,     9,\n",
       "         128,   204,   603,  7930,   871,   107,   785,   304,   163,\n",
       "         154,   153,  7844,   523,   412,   252,   129,   176,  1308,\n",
       "        2855,   600,   367,   608,   220,   161,   217,   229,  1570,\n",
       "        1657,     8,   138,  4120,   182,   482, 80000,   299,   278,\n",
       "         191,   391,   347,   159,   158,  8677,   859,   237,   268,\n",
       "         867,   142,   238,   121,   314,  1046,  1030,   169,   241,\n",
       "         209,   332,   471,   127,   253,  1302,   211,   279,   251,\n",
       "        5150,   520,   366,   231,   189,   184,   360,   357,   402,\n",
       "         290,   427,   453,   288,   286,   255,   365,   230,   146,\n",
       "         198], dtype=int64)"
      ]
     },
     "execution_count": 202,
     "metadata": {},
     "output_type": "execute_result"
    }
   ],
   "source": [
    "data['price'].unique()"
   ]
  },
  {
   "cell_type": "code",
   "execution_count": 205,
   "metadata": {},
   "outputs": [
    {
     "data": {
      "text/plain": [
       "array([1527, 1551, 1923, 2434, 2969, 3235, 3697, 3755, 4670, 4752, 4879,\n",
       "       4928, 5256, 5439, 6544, 6821, 7110], dtype=int64)"
      ]
     },
     "execution_count": 205,
     "metadata": {},
     "output_type": "execute_result"
    }
   ],
   "source": [
    "data_1 = data[data.price >= 1000]\n",
    "\n",
    "data_2 = data_1[data_1.accommodates < 10]\n",
    "data_2.index.values"
   ]
  },
  {
   "cell_type": "code",
   "execution_count": 206,
   "metadata": {},
   "outputs": [],
   "source": [
    "data.drop(data_2.index.values, inplace = True)"
   ]
  },
  {
   "cell_type": "code",
   "execution_count": 207,
   "metadata": {},
   "outputs": [
    {
     "data": {
      "text/plain": [
       "array([  20,   46,  151,   14,   35,   36,   37,   59,   98,  114,  157,\n",
       "        119,  109,   55,   71,  200,  212,   50,  113,   52,   30,  201,\n",
       "         45,   65,   60,   90,   15,   85,   88,   80,   95,   40,   77,\n",
       "         57,   39,  185,   49,   13,   67,   25,   23,   38,  225,  205,\n",
       "         10,   72,   56,   31,   81,   24,   18,   63,   75,   93,  110,\n",
       "         53,   78,   70,   48,   79,   87,   96,  131,   43,   61,   99,\n",
       "        167,  174,   42,   21,   12,   51,   34,   91,  139,   26,  108,\n",
       "         28,   47,   84,   41,   62,  130,  102,   74,   16,   29,   33,\n",
       "         58,  124,  105,  117,  155,   22,   69,  309,  515,  400,   54,\n",
       "        180,   92,  350,   83,  123,   27,  234,   97,  260,  150,   73,\n",
       "        192,   19,   76,   82,   32,   66,   11,  104,  249,  100,   44,\n",
       "        103,  287,   17,  219,  305,   64,  170,  149,  436,  392,  262,\n",
       "         68,  144,  125,   94,  116,  126,  349,  101,  208,  143,  190,\n",
       "        122,  721,  166,  133,  216,  160,  297,  390,  218,  261,  120,\n",
       "        145,  118,  115,  156,  313,  500,  152,  132,  300,  258,  175,\n",
       "         89,  134,  135,  480,  232,  206,  173,  306,  227,  697,  148,\n",
       "        140,  244,  236,  165,  112,  330,  250,  277,  384,  111,  243,\n",
       "        179,  235,  256,  171,  199,  340,    9,  128,  204,  603,  871,\n",
       "        107,  785,  304,  163,  154,  153,  523,  412,  252,  129,  176,\n",
       "        600,  367,  608,  220,  161,  217,  229,    8,  138,  182,  482,\n",
       "        299,  278,  191,  391,  347,  159,  158,  859,  237,  268,  867,\n",
       "        142,  238,  121,  314, 1046,  169,  241,  209,  332,  471,  127,\n",
       "        253,  211,  279,  251,  520,  366,  231,  189,  184,  360,  357,\n",
       "        402,  290,  427,  453,  288,  286,  255,  365,  230,  146,  198],\n",
       "      dtype=int64)"
      ]
     },
     "execution_count": 207,
     "metadata": {},
     "output_type": "execute_result"
    }
   ],
   "source": [
    "data['price'].unique()"
   ]
  },
  {
   "cell_type": "code",
   "execution_count": 210,
   "metadata": {},
   "outputs": [
    {
     "name": "stdout",
     "output_type": "stream",
     "text": [
      "<class 'pandas.core.frame.DataFrame'>\n",
      "Int64Index: 8502 entries, 0 to 8518\n",
      "Data columns (total 10 columns):\n",
      "accommodates       8502 non-null int64\n",
      "bedrooms           8499 non-null float64\n",
      "bathrooms          7994 non-null float64\n",
      "minstay            8278 non-null float64\n",
      "latitude           8502 non-null float64\n",
      "longitude          8502 non-null float64\n",
      "Entire home/apt    8502 non-null float64\n",
      "Private room       8502 non-null float64\n",
      "Shared room        8502 non-null float64\n",
      "price              8502 non-null int64\n",
      "dtypes: float64(8), int64(2)\n",
      "memory usage: 730.6 KB\n"
     ]
    }
   ],
   "source": [
    "data.info()"
   ]
  },
  {
   "cell_type": "code",
   "execution_count": 211,
   "metadata": {},
   "outputs": [],
   "source": [
    "data.reset_index(drop = True,inplace = True)"
   ]
  },
  {
   "cell_type": "code",
   "execution_count": 212,
   "metadata": {},
   "outputs": [
    {
     "data": {
      "text/html": [
       "<div>\n",
       "<style scoped>\n",
       "    .dataframe tbody tr th:only-of-type {\n",
       "        vertical-align: middle;\n",
       "    }\n",
       "\n",
       "    .dataframe tbody tr th {\n",
       "        vertical-align: top;\n",
       "    }\n",
       "\n",
       "    .dataframe thead th {\n",
       "        text-align: right;\n",
       "    }\n",
       "</style>\n",
       "<table border=\"1\" class=\"dataframe\">\n",
       "  <thead>\n",
       "    <tr style=\"text-align: right;\">\n",
       "      <th></th>\n",
       "      <th>accommodates</th>\n",
       "      <th>bedrooms</th>\n",
       "      <th>bathrooms</th>\n",
       "      <th>minstay</th>\n",
       "      <th>latitude</th>\n",
       "      <th>longitude</th>\n",
       "      <th>Entire home/apt</th>\n",
       "      <th>Private room</th>\n",
       "      <th>Shared room</th>\n",
       "      <th>price</th>\n",
       "    </tr>\n",
       "  </thead>\n",
       "  <tbody>\n",
       "    <tr>\n",
       "      <td>0</td>\n",
       "      <td>6</td>\n",
       "      <td>1.0</td>\n",
       "      <td>1.0</td>\n",
       "      <td>2.0</td>\n",
       "      <td>37.553134</td>\n",
       "      <td>126.925835</td>\n",
       "      <td>0.0</td>\n",
       "      <td>0.0</td>\n",
       "      <td>1.0</td>\n",
       "      <td>20</td>\n",
       "    </tr>\n",
       "    <tr>\n",
       "      <td>1</td>\n",
       "      <td>1</td>\n",
       "      <td>1.0</td>\n",
       "      <td>1.0</td>\n",
       "      <td>2.0</td>\n",
       "      <td>37.555893</td>\n",
       "      <td>126.928023</td>\n",
       "      <td>0.0</td>\n",
       "      <td>1.0</td>\n",
       "      <td>0.0</td>\n",
       "      <td>46</td>\n",
       "    </tr>\n",
       "    <tr>\n",
       "      <td>2</td>\n",
       "      <td>2</td>\n",
       "      <td>0.0</td>\n",
       "      <td>1.0</td>\n",
       "      <td>1.0</td>\n",
       "      <td>37.576998</td>\n",
       "      <td>126.997793</td>\n",
       "      <td>1.0</td>\n",
       "      <td>0.0</td>\n",
       "      <td>0.0</td>\n",
       "      <td>151</td>\n",
       "    </tr>\n",
       "    <tr>\n",
       "      <td>3</td>\n",
       "      <td>6</td>\n",
       "      <td>1.0</td>\n",
       "      <td>1.0</td>\n",
       "      <td>1.0</td>\n",
       "      <td>37.575486</td>\n",
       "      <td>126.990546</td>\n",
       "      <td>0.0</td>\n",
       "      <td>0.0</td>\n",
       "      <td>1.0</td>\n",
       "      <td>14</td>\n",
       "    </tr>\n",
       "    <tr>\n",
       "      <td>4</td>\n",
       "      <td>1</td>\n",
       "      <td>1.0</td>\n",
       "      <td>1.0</td>\n",
       "      <td>1.0</td>\n",
       "      <td>37.577231</td>\n",
       "      <td>126.991428</td>\n",
       "      <td>0.0</td>\n",
       "      <td>1.0</td>\n",
       "      <td>0.0</td>\n",
       "      <td>35</td>\n",
       "    </tr>\n",
       "    <tr>\n",
       "      <td>...</td>\n",
       "      <td>...</td>\n",
       "      <td>...</td>\n",
       "      <td>...</td>\n",
       "      <td>...</td>\n",
       "      <td>...</td>\n",
       "      <td>...</td>\n",
       "      <td>...</td>\n",
       "      <td>...</td>\n",
       "      <td>...</td>\n",
       "      <td>...</td>\n",
       "    </tr>\n",
       "    <tr>\n",
       "      <td>8497</td>\n",
       "      <td>2</td>\n",
       "      <td>1.0</td>\n",
       "      <td>1.0</td>\n",
       "      <td>NaN</td>\n",
       "      <td>37.506332</td>\n",
       "      <td>127.060751</td>\n",
       "      <td>1.0</td>\n",
       "      <td>0.0</td>\n",
       "      <td>0.0</td>\n",
       "      <td>69</td>\n",
       "    </tr>\n",
       "    <tr>\n",
       "      <td>8498</td>\n",
       "      <td>1</td>\n",
       "      <td>1.0</td>\n",
       "      <td>1.0</td>\n",
       "      <td>NaN</td>\n",
       "      <td>37.562959</td>\n",
       "      <td>127.032475</td>\n",
       "      <td>0.0</td>\n",
       "      <td>1.0</td>\n",
       "      <td>0.0</td>\n",
       "      <td>30</td>\n",
       "    </tr>\n",
       "    <tr>\n",
       "      <td>8499</td>\n",
       "      <td>4</td>\n",
       "      <td>1.0</td>\n",
       "      <td>1.0</td>\n",
       "      <td>1.0</td>\n",
       "      <td>37.561568</td>\n",
       "      <td>126.924160</td>\n",
       "      <td>1.0</td>\n",
       "      <td>0.0</td>\n",
       "      <td>0.0</td>\n",
       "      <td>47</td>\n",
       "    </tr>\n",
       "    <tr>\n",
       "      <td>8500</td>\n",
       "      <td>4</td>\n",
       "      <td>1.0</td>\n",
       "      <td>1.0</td>\n",
       "      <td>2.0</td>\n",
       "      <td>37.562035</td>\n",
       "      <td>126.924369</td>\n",
       "      <td>1.0</td>\n",
       "      <td>0.0</td>\n",
       "      <td>0.0</td>\n",
       "      <td>48</td>\n",
       "    </tr>\n",
       "    <tr>\n",
       "      <td>8501</td>\n",
       "      <td>3</td>\n",
       "      <td>1.0</td>\n",
       "      <td>1.0</td>\n",
       "      <td>1.0</td>\n",
       "      <td>37.556520</td>\n",
       "      <td>126.936224</td>\n",
       "      <td>0.0</td>\n",
       "      <td>1.0</td>\n",
       "      <td>0.0</td>\n",
       "      <td>43</td>\n",
       "    </tr>\n",
       "  </tbody>\n",
       "</table>\n",
       "<p>8502 rows × 10 columns</p>\n",
       "</div>"
      ],
      "text/plain": [
       "      accommodates  bedrooms  bathrooms  minstay   latitude   longitude  \\\n",
       "0                6       1.0        1.0      2.0  37.553134  126.925835   \n",
       "1                1       1.0        1.0      2.0  37.555893  126.928023   \n",
       "2                2       0.0        1.0      1.0  37.576998  126.997793   \n",
       "3                6       1.0        1.0      1.0  37.575486  126.990546   \n",
       "4                1       1.0        1.0      1.0  37.577231  126.991428   \n",
       "...            ...       ...        ...      ...        ...         ...   \n",
       "8497             2       1.0        1.0      NaN  37.506332  127.060751   \n",
       "8498             1       1.0        1.0      NaN  37.562959  127.032475   \n",
       "8499             4       1.0        1.0      1.0  37.561568  126.924160   \n",
       "8500             4       1.0        1.0      2.0  37.562035  126.924369   \n",
       "8501             3       1.0        1.0      1.0  37.556520  126.936224   \n",
       "\n",
       "      Entire home/apt  Private room  Shared room  price  \n",
       "0                 0.0           0.0          1.0     20  \n",
       "1                 0.0           1.0          0.0     46  \n",
       "2                 1.0           0.0          0.0    151  \n",
       "3                 0.0           0.0          1.0     14  \n",
       "4                 0.0           1.0          0.0     35  \n",
       "...               ...           ...          ...    ...  \n",
       "8497              1.0           0.0          0.0     69  \n",
       "8498              0.0           1.0          0.0     30  \n",
       "8499              1.0           0.0          0.0     47  \n",
       "8500              1.0           0.0          0.0     48  \n",
       "8501              0.0           1.0          0.0     43  \n",
       "\n",
       "[8502 rows x 10 columns]"
      ]
     },
     "execution_count": 212,
     "metadata": {},
     "output_type": "execute_result"
    }
   ],
   "source": [
    "data"
   ]
  },
  {
   "cell_type": "code",
   "execution_count": 219,
   "metadata": {},
   "outputs": [
    {
     "data": {
      "text/plain": [
       "1046"
      ]
     },
     "execution_count": 219,
     "metadata": {},
     "output_type": "execute_result"
    },
    {
     "data": {
      "image/png": "[encoded data removed]",
      "text/plain": [
       "<Figure size 432x288 with 1 Axes>"
      ]
     },
     "metadata": {
      "needs_background": "light"
     },
     "output_type": "display_data"
    }
   ],
   "source": [
    "data['price'].plot(kind = 'hist',bins =100)\n",
    "data['price'].max()"
   ]
  },
  {
   "cell_type": "code",
   "execution_count": 229,
   "metadata": {},
   "outputs": [
    {
     "data": {
      "text/html": [
       "<div>\n",
       "<style scoped>\n",
       "    .dataframe tbody tr th:only-of-type {\n",
       "        vertical-align: middle;\n",
       "    }\n",
       "\n",
       "    .dataframe tbody tr th {\n",
       "        vertical-align: top;\n",
       "    }\n",
       "\n",
       "    .dataframe thead th {\n",
       "        text-align: right;\n",
       "    }\n",
       "</style>\n",
       "<table border=\"1\" class=\"dataframe\">\n",
       "  <thead>\n",
       "    <tr style=\"text-align: right;\">\n",
       "      <th></th>\n",
       "      <th>accommodates</th>\n",
       "      <th>bedrooms</th>\n",
       "      <th>bathrooms</th>\n",
       "      <th>minstay</th>\n",
       "      <th>latitude</th>\n",
       "      <th>longitude</th>\n",
       "      <th>Entire home/apt</th>\n",
       "      <th>Private room</th>\n",
       "      <th>Shared room</th>\n",
       "      <th>price</th>\n",
       "      <th>group</th>\n",
       "    </tr>\n",
       "  </thead>\n",
       "  <tbody>\n",
       "    <tr>\n",
       "      <td>0</td>\n",
       "      <td>6</td>\n",
       "      <td>1.0</td>\n",
       "      <td>1.0</td>\n",
       "      <td>2.0</td>\n",
       "      <td>37.553134</td>\n",
       "      <td>126.925835</td>\n",
       "      <td>0.0</td>\n",
       "      <td>0.0</td>\n",
       "      <td>1.0</td>\n",
       "      <td>20</td>\n",
       "      <td>group_1</td>\n",
       "    </tr>\n",
       "    <tr>\n",
       "      <td>1</td>\n",
       "      <td>1</td>\n",
       "      <td>1.0</td>\n",
       "      <td>1.0</td>\n",
       "      <td>2.0</td>\n",
       "      <td>37.555893</td>\n",
       "      <td>126.928023</td>\n",
       "      <td>0.0</td>\n",
       "      <td>1.0</td>\n",
       "      <td>0.0</td>\n",
       "      <td>46</td>\n",
       "      <td>group_1</td>\n",
       "    </tr>\n",
       "    <tr>\n",
       "      <td>2</td>\n",
       "      <td>2</td>\n",
       "      <td>0.0</td>\n",
       "      <td>1.0</td>\n",
       "      <td>1.0</td>\n",
       "      <td>37.576998</td>\n",
       "      <td>126.997793</td>\n",
       "      <td>1.0</td>\n",
       "      <td>0.0</td>\n",
       "      <td>0.0</td>\n",
       "      <td>151</td>\n",
       "      <td>group_1</td>\n",
       "    </tr>\n",
       "    <tr>\n",
       "      <td>3</td>\n",
       "      <td>6</td>\n",
       "      <td>1.0</td>\n",
       "      <td>1.0</td>\n",
       "      <td>1.0</td>\n",
       "      <td>37.575486</td>\n",
       "      <td>126.990546</td>\n",
       "      <td>0.0</td>\n",
       "      <td>0.0</td>\n",
       "      <td>1.0</td>\n",
       "      <td>14</td>\n",
       "      <td>group_1</td>\n",
       "    </tr>\n",
       "    <tr>\n",
       "      <td>4</td>\n",
       "      <td>1</td>\n",
       "      <td>1.0</td>\n",
       "      <td>1.0</td>\n",
       "      <td>1.0</td>\n",
       "      <td>37.577231</td>\n",
       "      <td>126.991428</td>\n",
       "      <td>0.0</td>\n",
       "      <td>1.0</td>\n",
       "      <td>0.0</td>\n",
       "      <td>35</td>\n",
       "      <td>group_1</td>\n",
       "    </tr>\n",
       "  </tbody>\n",
       "</table>\n",
       "</div>"
      ],
      "text/plain": [
       "   accommodates  bedrooms  bathrooms  minstay   latitude   longitude  \\\n",
       "0             6       1.0        1.0      2.0  37.553134  126.925835   \n",
       "1             1       1.0        1.0      2.0  37.555893  126.928023   \n",
       "2             2       0.0        1.0      1.0  37.576998  126.997793   \n",
       "3             6       1.0        1.0      1.0  37.575486  126.990546   \n",
       "4             1       1.0        1.0      1.0  37.577231  126.991428   \n",
       "\n",
       "   Entire home/apt  Private room  Shared room  price    group  \n",
       "0              0.0           0.0          1.0     20  group_1  \n",
       "1              0.0           1.0          0.0     46  group_1  \n",
       "2              1.0           0.0          0.0    151  group_1  \n",
       "3              0.0           0.0          1.0     14  group_1  \n",
       "4              0.0           1.0          0.0     35  group_1  "
      ]
     },
     "execution_count": 229,
     "metadata": {},
     "output_type": "execute_result"
    }
   ],
   "source": [
    "data['group'] = pd.cut(x= data['price'],\n",
    "                      bins = [0,200,400,600,800,1000,1200],\n",
    "                      labels = ['group_1','group_2','group_3','group_4','group_5',\n",
    "                                'group_6'])\n",
    "data.head()"
   ]
  },
  {
   "cell_type": "code",
   "execution_count": 230,
   "metadata": {},
   "outputs": [],
   "source": [
    "from sklearn.model_selection import StratifiedShuffleSplit\n",
    "\n",
    "split = StratifiedShuffleSplit(n_splits=1, test_size= 0.2, random_state=42)\n",
    "for train_index, test_index in split.split(data,data['group']):\n",
    "    train = data.loc[train_index]\n",
    "    test = data.loc[test_index]"
   ]
  },
  {
   "cell_type": "code",
   "execution_count": 231,
   "metadata": {},
   "outputs": [
    {
     "data": {
      "text/plain": [
       "group_1    0.969416\n",
       "group_2    0.026320\n",
       "group_3    0.002794\n",
       "group_4    0.000882\n",
       "group_6    0.000294\n",
       "group_5    0.000294\n",
       "Name: group, dtype: float64"
      ]
     },
     "execution_count": 231,
     "metadata": {},
     "output_type": "execute_result"
    }
   ],
   "source": [
    "train['group'].value_counts() / len(train)"
   ]
  },
  {
   "cell_type": "code",
   "execution_count": 232,
   "metadata": {},
   "outputs": [
    {
     "data": {
      "text/plain": [
       "group_1    0.969430\n",
       "group_2    0.026455\n",
       "group_3    0.002939\n",
       "group_5    0.000588\n",
       "group_4    0.000588\n",
       "group_6    0.000000\n",
       "Name: group, dtype: float64"
      ]
     },
     "execution_count": 232,
     "metadata": {},
     "output_type": "execute_result"
    }
   ],
   "source": [
    "test['group'].value_counts() / len(test)"
   ]
  },
  {
   "cell_type": "code",
   "execution_count": 233,
   "metadata": {},
   "outputs": [],
   "source": [
    "train.drop('group',axis = 1,inplace = True)\n",
    "test.drop('group',axis = 1,inplace = True)"
   ]
  },
  {
   "cell_type": "code",
   "execution_count": 234,
   "metadata": {},
   "outputs": [],
   "source": [
    "train_y = train[['price']]\n",
    "train_X = train.drop('price', axis = 1)\n",
    "\n",
    "test_y = test[['price']]\n",
    "test_X = test.drop('price', axis = 1)"
   ]
  },
  {
   "cell_type": "code",
   "execution_count": 235,
   "metadata": {},
   "outputs": [
    {
     "name": "stdout",
     "output_type": "stream",
     "text": [
      "<class 'pandas.core.frame.DataFrame'>\n",
      "RangeIndex: 8502 entries, 0 to 8501\n",
      "Data columns (total 11 columns):\n",
      "accommodates       8502 non-null int64\n",
      "bedrooms           8499 non-null float64\n",
      "bathrooms          7994 non-null float64\n",
      "minstay            8278 non-null float64\n",
      "latitude           8502 non-null float64\n",
      "longitude          8502 non-null float64\n",
      "Entire home/apt    8502 non-null float64\n",
      "Private room       8502 non-null float64\n",
      "Shared room        8502 non-null float64\n",
      "price              8502 non-null int64\n",
      "group              8502 non-null category\n",
      "dtypes: category(1), float64(8), int64(2)\n",
      "memory usage: 672.8 KB\n"
     ]
    }
   ],
   "source": [
    "data.info()"
   ]
  },
  {
   "cell_type": "code",
   "execution_count": 238,
   "metadata": {},
   "outputs": [],
   "source": [
    "train_X.dropna(axis = 0, inplace = True)\n",
    "test_X.dropna(axis = 0, inplace = True)"
   ]
  },
  {
   "cell_type": "code",
   "execution_count": 239,
   "metadata": {},
   "outputs": [
    {
     "name": "stdout",
     "output_type": "stream",
     "text": [
      "<class 'pandas.core.frame.DataFrame'>\n",
      "Int64Index: 6209 entries, 2388 to 3743\n",
      "Data columns (total 9 columns):\n",
      "accommodates       6209 non-null int64\n",
      "bedrooms           6209 non-null float64\n",
      "bathrooms          6209 non-null float64\n",
      "minstay            6209 non-null float64\n",
      "latitude           6209 non-null float64\n",
      "longitude          6209 non-null float64\n",
      "Entire home/apt    6209 non-null float64\n",
      "Private room       6209 non-null float64\n",
      "Shared room        6209 non-null float64\n",
      "dtypes: float64(8), int64(1)\n",
      "memory usage: 485.1 KB\n"
     ]
    }
   ],
   "source": [
    "train_X.info()"
   ]
  },
  {
   "cell_type": "code",
   "execution_count": 240,
   "metadata": {},
   "outputs": [
    {
     "name": "stdout",
     "output_type": "stream",
     "text": [
      "<class 'pandas.core.frame.DataFrame'>\n",
      "Int64Index: 1566 entries, 2026 to 6989\n",
      "Data columns (total 9 columns):\n",
      "accommodates       1566 non-null int64\n",
      "bedrooms           1566 non-null float64\n",
      "bathrooms          1566 non-null float64\n",
      "minstay            1566 non-null float64\n",
      "latitude           1566 non-null float64\n",
      "longitude          1566 non-null float64\n",
      "Entire home/apt    1566 non-null float64\n",
      "Private room       1566 non-null float64\n",
      "Shared room        1566 non-null float64\n",
      "dtypes: float64(8), int64(1)\n",
      "memory usage: 122.3 KB\n"
     ]
    }
   ],
   "source": [
    "test_X.info()"
   ]
  },
  {
   "cell_type": "code",
   "execution_count": null,
   "metadata": {},
   "outputs": [],
   "source": []
  }
 ],
 "metadata": {
  "kernelspec": {
   "display_name": "Python 3",
   "language": "python",
   "name": "python3"
  },
  "language_info": {
   "codemirror_mode": {
    "name": "ipython",
    "version": 3
   },
   "file_extension": ".py",
   "mimetype": "text/x-python",
   "name": "python",
   "nbconvert_exporter": "python",
   "pygments_lexer": "ipython3",
   "version": "3.6.9"
  }
 },
 "nbformat": 4,
 "nbformat_minor": 2
}
