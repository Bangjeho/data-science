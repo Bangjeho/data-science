{
 "cells": [
  {
   "cell_type": "code",
   "execution_count": 1,
   "metadata": {},
   "outputs": [],
   "source": [
    "import numpy as np"
   ]
  },
  {
   "cell_type": "code",
   "execution_count": 66,
   "metadata": {
    "scrolled": true
   },
   "outputs": [
    {
     "name": "stdout",
     "output_type": "stream",
     "text": [
      "[[55. 72.]\n",
      " [60. 54.]\n",
      " [42. 65.]\n",
      " [44. 89.]\n",
      " [96. 38.]\n",
      " [79. 53.]\n",
      " [57. 93.]\n",
      " [ 7.  9.]\n",
      " [ 2. 83.]\n",
      " [78. 87.]\n",
      " [98. 80.]\n",
      " [46. 78.]\n",
      " [12. 64.]\n",
      " [14. 94.]\n",
      " [52. 41.]\n",
      " [26. 77.]\n",
      " [46. 57.]\n",
      " [ 2. 62.]\n",
      " [61. 62.]\n",
      " [94. 68.]\n",
      " [36. 44.]\n",
      " [70.  6.]\n",
      " [67. 67.]\n",
      " [21. 13.]\n",
      " [32. 36.]\n",
      " [57. 44.]\n",
      " [99. 10.]\n",
      " [21. 16.]\n",
      " [65. 25.]\n",
      " [47. 24.]\n",
      " [16. 11.]\n",
      " [66. 14.]\n",
      " [20. 37.]\n",
      " [82. 10.]\n",
      " [84. 10.]\n",
      " [98. 47.]\n",
      " [98. 60.]\n",
      " [74.  4.]\n",
      " [28. 12.]\n",
      " [30. 12.]]\n"
     ]
    }
   ],
   "source": [
    "np.random.seed(0)\n",
    "data = 100 * np.random.random(80).reshape(40,2)\n",
    "data = np.round(data)\n",
    "print(data)\n",
    "diff = data.reshape(data.shape[0],1,2)\n",
    "diff = diff - data\n",
    "diff = diff**2"
   ]
  },
  {
   "cell_type": "code",
   "execution_count": 67,
   "metadata": {},
   "outputs": [],
   "source": [
    "diff = diff.sum(axis = 2)"
   ]
  },
  {
   "cell_type": "code",
   "execution_count": 68,
   "metadata": {},
   "outputs": [],
   "source": [
    "i = np.arange(data.shape[0])\n",
    "diff[i,i] = np.Inf"
   ]
  },
  {
   "cell_type": "code",
   "execution_count": 80,
   "metadata": {},
   "outputs": [
    {
     "name": "stdout",
     "output_type": "stream",
     "text": [
      "1600\n",
      "Index,Distance\n",
      "[[ 11. 117.]\n",
      " [ 18.  65.]\n",
      " [ 16.  80.]\n",
      " [ 11. 125.]\n",
      " [ 35.  85.]\n",
      " [ 22. 340.]\n",
      " [  3. 185.]\n",
      " [ 30.  85.]\n",
      " [ 13. 265.]\n",
      " [ 10. 449.]\n",
      " [ 19. 160.]\n",
      " [  0. 117.]\n",
      " [ 17. 104.]\n",
      " [  8. 265.]\n",
      " [ 25.  34.]\n",
      " [ 12. 365.]\n",
      " [  2.  80.]\n",
      " [ 12. 104.]\n",
      " [ 22.  61.]\n",
      " [ 36.  80.]\n",
      " [ 24.  80.]\n",
      " [ 37.  20.]\n",
      " [ 18.  61.]\n",
      " [ 27.   9.]\n",
      " [ 20.  80.]\n",
      " [ 14.  34.]\n",
      " [ 34. 225.]\n",
      " [ 23.   9.]\n",
      " [ 31. 122.]\n",
      " [ 14. 314.]\n",
      " [ 23.  29.]\n",
      " [ 21.  80.]\n",
      " [ 24. 145.]\n",
      " [ 34.   4.]\n",
      " [ 33.   4.]\n",
      " [  4.  85.]\n",
      " [ 19.  80.]\n",
      " [ 21.  20.]\n",
      " [ 39.   4.]\n",
      " [ 38.   4.]]\n"
     ]
    }
   ],
   "source": [
    "index = np.argmin(diff, axis = 1).reshape(data.shape[0],1)\n",
    "distance = np.min(diff,axis = 1).reshape(data.shape[0],1)\n",
    "index = np.concatenate([index,distance],axis = 1)\n",
    "print(diff.size)\n",
    "print(\"Index,Distance\")\n",
    "print(index)"
   ]
  },
  {
   "cell_type": "code",
   "execution_count": null,
   "metadata": {},
   "outputs": [],
   "source": []
  }
 ],
 "metadata": {
  "kernelspec": {
   "display_name": "Python 3",
   "language": "python",
   "name": "python3"
  },
  "language_info": {
   "codemirror_mode": {
    "name": "ipython",
    "version": 3
   },
   "file_extension": ".py",
   "mimetype": "text/x-python",
   "name": "python",
   "nbconvert_exporter": "python",
   "pygments_lexer": "ipython3",
   "version": "3.7.3"
  }
 },
 "nbformat": 4,
 "nbformat_minor": 2
}
