{
 "cells": [
  {
   "cell_type": "code",
   "execution_count": 9,
   "metadata": {
    "colab": {
     "base_uri": "https://localhost:8080/",
     "height": 161
    },
    "colab_type": "code",
    "executionInfo": {
     "elapsed": 984,
     "status": "ok",
     "timestamp": 1558468825022,
     "user": {
      "displayName": "Eung-Hee Kim",
      "photoUrl": "https://lh4.googleusercontent.com/-u_UeCh4e50Y/AAAAAAAAAAI/AAAAAAAAASI/wOpK8pkU4vg/s64/photo.jpg",
      "userId": "12083146204332981915"
     },
     "user_tz": -540
    },
    "id": "VCTMcbUpwSJY",
    "outputId": "906fa651-ae9f-42f1-af49-74797da5b565"
   },
   "outputs": [
    {
     "name": "stdout",
     "output_type": "stream",
     "text": [
      "[1 1], [-1], -1\n",
      "[1 3], [-1], -1\n",
      "[2 1], [-1], -1\n",
      "[3 2], [-1], -1\n",
      "[5 3], [1], 1\n",
      "[6 3], [1], 1\n",
      "[6 5], [1], 1\n",
      "[7 2], [1], 1\n"
     ]
    }
   ],
   "source": [
    "import numpy as np\n",
    "\n",
    "def predict(w, x_i):\n",
    "    answer = np.tensordot(w,x_i, axes = 1)\n",
    "    if answer > 0:\n",
    "        answer = 1\n",
    "    elif answer < 0 :\n",
    "        answer = -1\n",
    "    return answer\n",
    "\n",
    "def learn(w, x, y):\n",
    "    is_error_there = True\n",
    "    while is_error_there:\n",
    "        is_error_there = False\n",
    "        for x_i,y_i in zip(x, y):\n",
    "            answer = predict(w, x_i)\n",
    "            if answer != y_i:\n",
    "                w = np.add(w,x_i*y_i)\n",
    "                is_error_there = True\n",
    "    return w\n",
    "\n",
    "x = np.array([[1, 1], [1, 3], [2, 1], [3, 2], [5, 3], [6, 3], [6, 5], [7, 2]])\n",
    "b = np.ones((x.shape[0],1), dtype = \"int\")\n",
    "x = np.concatenate([b,x], axis = 1)\n",
    "y = np.array([-1,-1,-1,-1,1,1,1,1])\n",
    "y = y.reshape((x.shape[0],1))\n",
    "w = np.random.random(x.shape[1])\n",
    "\n",
    "# y = [-1, -1, -1, -1, 1, 1, 1, 1]\n",
    "# w = [ ]\n",
    "# for i in range(0, len(x[0])+1):\n",
    "#     w_i = random.uniform(0, 1)\n",
    "#     w.append(w_i)\n",
    "\n",
    "w = learn(w, x, y)\n",
    "    \n",
    "for x_i,y_i in zip(x,y):\n",
    "    answer = predict(w, x_i)\n",
    "    print(x_i[1:], end=\", \")\n",
    "    print(y_i, end=\", \")\n",
    "    print(answer)"
   ]
  }
 ],
 "metadata": {
  "colab": {
   "collapsed_sections": [],
   "name": "Untitled0.ipynb",
   "provenance": [],
   "version": "0.3.2"
  },
  "kernelspec": {
   "display_name": "Python 3",
   "language": "python",
   "name": "python3"
  },
  "language_info": {
   "codemirror_mode": {
    "name": "ipython",
    "version": 3
   },
   "file_extension": ".py",
   "mimetype": "text/x-python",
   "name": "python",
   "nbconvert_exporter": "python",
   "pygments_lexer": "ipython3",
   "version": "3.7.3"
  }
 },
 "nbformat": 4,
 "nbformat_minor": 1
}
