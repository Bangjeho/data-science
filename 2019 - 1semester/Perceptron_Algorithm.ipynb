{
 "cells": [
  {
   "cell_type": "code",
   "execution_count": 33,
   "metadata": {},
   "outputs": [
    {
     "name": "stdout",
     "output_type": "stream",
     "text": [
      "[1, 1], -1, -1\n",
      "[1, 3], -1, -1\n",
      "[2, 1], -1, -1\n",
      "[3, 2], -1, -1\n",
      "[5, 3], 1, 1\n",
      "[6, 3], 1, 1\n",
      "[6, 5], 1, 1\n",
      "[7, 2], 1, 1\n"
     ]
    }
   ],
   "source": [
    "import random\n",
    "\n",
    "def predict(w,x_i):\n",
    "    answer = 0\n",
    "    sum = w[0]\n",
    "    for i in range(1,len(w)):\n",
    "        sum += w[i] * x_i[i-1]\n",
    "    if sum > 0 :\n",
    "        answer = 1\n",
    "    elif sum < 0 :\n",
    "        answer = -1\n",
    "    return answer\n",
    "\n",
    "def learn(w,x,y):\n",
    "    is_error_there = True\n",
    "    while is_error_there:\n",
    "        is_error_there = False\n",
    "        for i in range(0,len(x)):\n",
    "            answer = predict(w,x[i])\n",
    "            if(answer != y[i]):\n",
    "                w[0] += y[i] * 1\n",
    "                w[1] += y[i] * x[i][0]\n",
    "                w[2] += y[i] * x[i][1]\n",
    "                is_error_there = True\n",
    "    return w\n",
    "    \n",
    "x = [[1,1],[1,3],[2,1],[3,2],[5,3],[6,3],[6,5],[7,2]]\n",
    "y = [-1,-1,-1,-1,1,1,1,1]\n",
    "w = []\n",
    "\n",
    "for i in range(0,3):\n",
    "    w_i = random.uniform(0,1)\n",
    "    w.append(w_i)\n",
    "\n",
    "w = learn(w,x,y)\n",
    "\n",
    "for i in range(0,len(x)):\n",
    "    x_i = x[i]\n",
    "    y_i = y[i]\n",
    "    answer = predict(w,x_i)\n",
    "    print(x_i, end = \", \")\n",
    "    print(y_i, end = \", \")\n",
    "    print(answer)"
   ]
  },
  {
   "cell_type": "code",
   "execution_count": 30,
   "metadata": {},
   "outputs": [
    {
     "name": "stdout",
     "output_type": "stream",
     "text": [
      "[1, 1], -1, -1\n",
      "[1, 3], -1, -1\n",
      "[2, 1], -1, -1\n",
      "[3, 2], -1, -1\n",
      "[5, 3], 1, 1\n",
      "[6, 3], 1, 1\n",
      "[6, 5], 1, 1\n",
      "[7, 2], 1, 1\n"
     ]
    }
   ],
   "source": [
    "import random\n",
    "\n",
    "def predict(w,x_i):\n",
    "    answer = 0\n",
    "    sum = w[0]\n",
    "    for i in range(1,len(w)):\n",
    "        sum += w[i] * x_i[i-1]\n",
    "    if sum > 0 :\n",
    "        answer = 1\n",
    "    elif sum < 0 :\n",
    "        answer = -1\n",
    "    return answer\n",
    "\n",
    "def learn(w,x,y):\n",
    "    run_ratio = 1\n",
    "    dimension = len(x[0])\n",
    "    data_size = len(x)\n",
    "    is_error_there = True\n",
    "    while is_error_there:\n",
    "        is_error_there = False\n",
    "        for i in range(0,data_size):\n",
    "            answer = predict(w,x[i])\n",
    "            if(answer != y[i]):\n",
    "                w[0] += y[i] * 1\n",
    "                for j in range(0,dimension):\n",
    "                    w[j+1] += run_ratio * y[i] * x[i][j]\n",
    "                is_error_there = True\n",
    "    return w\n",
    "    \n",
    "x = [[1,1],[1,3],[2,1],[3,2],[5,3],[6,3],[6,5],[7,2]]\n",
    "y = [-1,-1,-1,-1,1,1,1,1]\n",
    "w = []\n",
    "\n",
    "for i in range(0,3):\n",
    "    w_i = random.uniform(0,1)\n",
    "    w.append(w_i)\n",
    "\n",
    "w = learn(w,x,y)\n",
    "\n",
    "for i in range(0,len(x)):\n",
    "    x_i = x[i]\n",
    "    y_i = y[i]\n",
    "    answer = predict(w,x_i)\n",
    "    print(x_i, end = \", \")\n",
    "    print(y_i, end = \", \")\n",
    "    print(answer)"
   ]
  },
  {
   "cell_type": "code",
   "execution_count": null,
   "metadata": {},
   "outputs": [],
   "source": []
  }
 ],
 "metadata": {
  "kernelspec": {
   "display_name": "Python 3",
   "language": "python",
   "name": "python3"
  },
  "language_info": {
   "codemirror_mode": {
    "name": "ipython",
    "version": 3
   },
   "file_extension": ".py",
   "mimetype": "text/x-python",
   "name": "python",
   "nbconvert_exporter": "python",
   "pygments_lexer": "ipython3",
   "version": "3.7.3"
  }
 },
 "nbformat": 4,
 "nbformat_minor": 2
}
